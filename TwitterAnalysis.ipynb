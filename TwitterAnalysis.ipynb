{
 "cells": [
  {
   "cell_type": "code",
   "execution_count": 1,
   "id": "d56c3781",
   "metadata": {},
   "outputs": [],
   "source": [
    "import matplotlib.pyplot as plt\n",
    "from utils import *"
   ]
  },
  {
   "cell_type": "code",
   "execution_count": 2,
   "id": "f5be7343",
   "metadata": {},
   "outputs": [
    {
     "name": "stdout",
     "output_type": "stream",
     "text": [
      "Positive tweets percentage: 14.0625 %\n",
      "Negative tweets percentage: 3.125 %\n",
      "Neutral tweets percentage: 82.8125 %     \n",
      "\n",
      "\n",
      "Positive tweets:\n",
      "RT @AnisPFI: For opposition leaders and activists visiting North Korea will be more easy than visiting BJP ruled Uttar Pradesh\n",
      "#FarmLaws_Ag…\n",
      "RT @Newsbox_India: We will shut this country if Modi sells more things to Ambani and Adani : Farmer Leader Balbir Singh Rajewal.\n",
      "#FarmLaws…\n",
      "RT @Trendsetting123: @ANI 1) Dear PM @narendramodi Ji\n",
      "\n",
      "Inspite of your assurances that your Govt is ready to debate all issue IN PARLIAMENT…\n",
      "RT @SINGHDALIP: Story of the families of Punjab who lost their loved ones during farm agitation. BBC Journalist Ragvendra Rao's report @rag…\n",
      "RT @ankurvashi1983: Middle Men Out: Govt coming up with unique ID's for Farmers with proper e-KYF (Know your Farmer) so as to enable hassle…\n",
      "RT @AbpGanga: LIVE | #BaatToChubhegi : लड़ाई अभी बाकी है या विजयी हो गई है इसमेंं ? इस सवाल पे क्या जवाब दिया @RakeshTikaitBKU ने\n",
      "\n",
      "देखिए @S…\n",
      "RT @SangathanKisan: #YogiAdityanath ji public wants to know, when #SIT also proved it, then why delay in justice to the family of farmers.…\n",
      "Story of the families of Punjab who lost their loved ones during farm agitation. BBC Journalist Ragvendra Rao's rep… https://t.co/r4A3w1AigA\n",
      "RT @sunnysingh695: Since #RakeshTikait Ji loudly said \"Allahu Akbar\" &amp; used Muslim sentiments for his personal political gains during #Farm…\n",
      "\n",
      "\n",
      "Negative tweets:\n",
      "RT @ndtv: Farmers celebrate as they leave their protest site Kaushambi (Delhi-UP border), after suspending their year-long protest against…\n",
      "RT @ak_glg06: E-KYF scheme should be taken as as a reply by those cursing and doubting PM Modi ji for repealing #FarmLaws \n",
      "\n",
      "This single sch…\n",
      "\n",
      "\n",
      "Neutral tweets:\n",
      "https://t.co/uZI5V76sLu \n",
      "#kisanmahapanchayat, #FarmersProtests, #FarmLaws, @RakeshTikaitBKU \n",
      "Kisan Andolan: तस्वी… https://t.co/ocDMpShO4g\n",
      "RT @h_dhaliwal307: जो ईमानदार पत्रकार नहीं खरीदे जा रहें उन्हें धमकाना शुरू कर दिया.\n",
      "क्या बोल रहे हैं कि निर्दोष को फसा दिया मीडिया ने\n",
      "ऐसे…\n",
      "जो ईमानदार पत्रकार नहीं खरीदे जा रहें उन्हें धमकाना शुरू कर दिया.\n",
      "क्या बोल रहे हैं कि निर्दोष को फसा दिया मीडिया ने… https://t.co/VcaNxqAULJ\n",
      "RT @prakashraaj: The relentless fighting farmers of my country have brought the KING on his knees … sharing ⁦@anitanairauthor⁩ poem narrate…\n",
      "RT @jitupatwari: धर्म की बात करके,\n",
      "अधर्म की राह चलता है!\n",
      "नया स्वांग रचकर,\n",
      "भूमि पुत्रों को छलता है!!\n",
      "\n",
      "#Lakhimpur | #FarmersProtest \n",
      "#FarmLaw…\n",
      "RT @SriSri: I congratulate PM @narendramodi ji for honoring the wishes of farmers. In a democracy, people’s wish should prevail. #FarmLaws\n",
      "RT @arsiwalamurtuza: The #FarmersProtests should have only ended after the sacking of #AjayMishraTeni haven't the famers done injustice to…\n",
      "RT @Kisanektamorcha: Press Note \n",
      "Date: 14th Dec 2021 \n",
      "#FarmLaws #FarmersWon #1YearOfFarmersProtest https://t.co/iFMx7mnAzD\n",
      "RT @janhit_times: गाजीपुर बॉर्डर से किसानों की घर वापसी, 383 दिन बाद अपने घर लौटेंगे किसान, खाली हुआ गाजीपुर बॉर्डर  #JanhitTimes @RakeshTi…\n",
      "RT @NH_India: #Famers camping at the #GhazipurBorder for over a year to protest against three contentious #farmlaws, on Wednesday vacated t…\n"
     ]
    }
   ],
   "source": [
    "tc = TwitterClient()\n",
    "tweets = tc.get_tweets(query = 'FarmLaws', count = 10000)\n",
    "# picking positive tweets from tweets\n",
    "ptweets = [tweet for tweet in tweets if tweet['sentiment'] == 'positive']\n",
    "# percentage of positive tweets\n",
    "print(\"Positive tweets percentage: {} %\".format(100*len(ptweets)/len(tweets)))\n",
    "# picking negative tweets from tweets\n",
    "ntweets = [tweet for tweet in tweets if tweet['sentiment'] == 'negative']\n",
    "# picking neutral tweets from tweets\n",
    "\n",
    "neutweets = [tweet for tweet in tweets if tweet['sentiment'] == 'neutral']\n",
    "\n",
    "# percentage of negative tweets\n",
    "print(\"Negative tweets percentage: {} %\".format(100*len(ntweets)/len(tweets)))\n",
    "# percentage of neutral tweets\n",
    "print(\"Neutral tweets percentage: {} % \\\n",
    "    \".format(100*(len(tweets) -(len( ntweets )+len( ptweets)))/len(tweets)))\n",
    "# printing first 5 positive tweets\n",
    "print(\"\\n\\nPositive tweets:\")\n",
    "for tweet in ptweets[:10]:\n",
    "    print(tweet['text'])\n",
    "  \n",
    " # printing first 5 negative tweets\n",
    "print(\"\\n\\nNegative tweets:\")\n",
    "for tweet in ntweets[:10]:\n",
    "    print(tweet['text'])\n",
    "    \n",
    "# printing first 5 neutral tweets\n",
    "print(\"\\n\\nNeutral tweets:\")\n",
    "for tweet in neutweets[:10]:\n",
    "    print(tweet['text'])"
   ]
  },
  {
   "cell_type": "code",
   "execution_count": 3,
   "id": "d3c7e33e",
   "metadata": {},
   "outputs": [
    {
     "data": {
      "image/png": "[encoded data removed]",
      "text/plain": [
       "<Figure size 432x288 with 1 Axes>"
      ]
     },
     "metadata": {
      "needs_background": "light"
     },
     "output_type": "display_data"
    }
   ],
   "source": [
    "names = ['positive','negative','neutral']\n",
    "values = [len(ptweets),len(ntweets),len(neutweets)]\n",
    "plt.bar(names,values)\n",
    "plt.xlabel('Behaviour of Tweet towards Context')\n",
    "plt.ylabel('No of Tweets (1 unit = 100 tweets)')\n",
    "plt.title('#FarmLaws Tweet statistics:')\n",
    "plt.savefig('abc.jpg',format='jpg')"
   ]
  },
  {
   "cell_type": "code",
   "execution_count": null,
   "id": "f1feb478",
   "metadata": {},
   "outputs": [],
   "source": []
  }
 ],
 "metadata": {
  "kernelspec": {
   "display_name": "Python 3",
   "language": "python",
   "name": "python3"
  },
  "language_info": {
   "codemirror_mode": {
    "name": "ipython",
    "version": 3
   },
   "file_extension": ".py",
   "mimetype": "text/x-python",
   "name": "python",
   "nbconvert_exporter": "python",
   "pygments_lexer": "ipython3",
   "version": "3.8.10"
  }
 },
 "nbformat": 4,
 "nbformat_minor": 5
}
