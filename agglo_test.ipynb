{
 "cells": [
  {
   "cell_type": "code",
   "execution_count": 2,
   "metadata": {},
   "outputs": [],
   "source": [
    "from agglo import *"
   ]
  },
  {
   "cell_type": "code",
   "execution_count": 37,
   "metadata": {},
   "outputs": [],
   "source": [
    "f = open('chess.txt', 'r')\n",
    "tweets = f.read().split('_$_')\n",
    "f.close()"
   ]
  },
  {
   "cell_type": "code",
   "execution_count": 38,
   "metadata": {},
   "outputs": [
    {
     "data": {
      "text/plain": [
       "101"
      ]
     },
     "execution_count": 38,
     "metadata": {},
     "output_type": "execute_result"
    }
   ],
   "source": [
    "len(tweets)"
   ]
  },
  {
   "cell_type": "code",
   "execution_count": 47,
   "metadata": {},
   "outputs": [],
   "source": [
    "clusters, vectors, processed_tweets = agglo(tweets,25)\n"
   ]
  },
  {
   "cell_type": "code",
   "execution_count": 48,
   "metadata": {},
   "outputs": [
    {
     "name": "stdout",
     "output_type": "stream",
     "text": [
      "[57, 44]\n"
     ]
    }
   ],
   "source": [
    "lens = [len(clusters[cluster]) for cluster in clusters]\n",
    "lens.sort()\n",
    "print([lens[-1], sum(lens[:-1])]) "
   ]
  },
  {
   "cell_type": "code",
   "execution_count": 50,
   "metadata": {},
   "outputs": [
    {
     "name": "stdout",
     "output_type": "stream",
     "text": [
      "0.7719298245614035\n"
     ]
    }
   ],
   "source": [
    "print(44/ 57)"
   ]
  },
  {
   "cell_type": "markdown",
   "metadata": {},
   "source": [
    "#Rhea\n",
    "62, 6\n",
    "54,14\n",
    "44,24"
   ]
  },
  {
   "cell_type": "markdown",
   "metadata": {},
   "source": [
    "#chess\n",
    "97, 4\n",
    "91, 10\n",
    "77,24"
   ]
  },
  {
   "cell_type": "code",
   "execution_count": 51,
   "metadata": {},
   "outputs": [
    {
     "name": "stdout",
     "output_type": "stream",
     "text": [
      "5 : 0.041237113402061855\n",
      "10 : 0.10989010989010989\n",
      "20 : 0.3116883116883117\n",
      "30 : 0.9423076923076923\n"
     ]
    }
   ],
   "source": [
    "for k in [5, 10,20,30]:\n",
    "    clusters, vectors, processed_tweets = agglo(tweets,k)\n",
    "    lens = [len(clusters[cluster]) for cluster in clusters]\n",
    "    lens.sort()\n",
    "    a = lens[-1]\n",
    "    b = sum(lens[:-1])\n",
    "    print('{} : {}'.format(k, (b/a)))"
   ]
  },
  {
   "cell_type": "code",
   "execution_count": null,
   "metadata": {},
   "outputs": [],
   "source": []
  }
 ],
 "metadata": {
  "interpreter": {
   "hash": "916dbcbb3f70747c44a77c7bcd40155683ae19c65e1c03b4aa3499c5328201f1"
  },
  "kernelspec": {
   "display_name": "Python 3.9.7 64-bit",
   "name": "python3"
  },
  "language_info": {
   "codemirror_mode": {
    "name": "ipython",
    "version": 3
   },
   "file_extension": ".py",
   "mimetype": "text/x-python",
   "name": "python",
   "nbconvert_exporter": "python",
   "pygments_lexer": "ipython3",
   "version": "3.9.7"
  },
  "orig_nbformat": 4
 },
 "nbformat": 4,
 "nbformat_minor": 2
}
