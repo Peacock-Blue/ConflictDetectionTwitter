{
 "cells": [
  {
   "cell_type": "code",
   "execution_count": 3,
   "metadata": {},
   "outputs": [],
   "source": [
    "from kmeans import *\n",
    "from divisive_clustering import *\n",
    "from custom_clustering import *\n",
    "from agglo import *"
   ]
  },
  {
   "cell_type": "code",
   "execution_count": 4,
   "metadata": {},
   "outputs": [],
   "source": [
    "f = open('farmer.txt', 'r')\n",
    "tweets = f.read().split('_$_')\n",
    "f.close()"
   ]
  },
  {
   "cell_type": "code",
   "execution_count": 5,
   "metadata": {},
   "outputs": [],
   "source": [
    "#(clusters,vectors) = kmeans_cl(tweets, 5, 100)\n",
    "#clusters"
   ]
  },
  {
   "cell_type": "code",
   "execution_count": 19,
   "metadata": {},
   "outputs": [
    {
     "name": "stdout",
     "output_type": "stream",
     "text": [
      "dict_keys([0, 9, 61, 14, 4, 12, 21, 55])\n"
     ]
    }
   ],
   "source": [
    "(clusters,vectors) = divisive_clustering(tweets,7)\n",
    "#clusters\n",
    "x = clusters.keys()\n",
    "print(x)"
   ]
  },
  {
   "cell_type": "code",
   "execution_count": 7,
   "metadata": {},
   "outputs": [],
   "source": [
    "#(clusters,vectors) = custom_clustering(tweets,15)\n",
    "#clusters"
   ]
  },
  {
   "cell_type": "code",
   "execution_count": 8,
   "metadata": {},
   "outputs": [],
   "source": [
    "#(clusters,vectors) = agglo(tweets,3)\n",
    "#clusters"
   ]
  },
  {
   "cell_type": "code",
   "execution_count": 49,
   "metadata": {},
   "outputs": [],
   "source": [
    "def furthestCentroids(centroids):\n",
    "    x = -1\n",
    "    y=-1\n",
    "    maxDist = -1\n",
    "    for i in range(len(centroids)):\n",
    "        for j in range(i+1,len(centroids)):\n",
    "            dist = np.linalg.norm(centroids[i]-centroids[j])\n",
    "            if dist>maxDist:\n",
    "                maxDist = dist\n",
    "                x = i\n",
    "                y = j\n",
    "    return (x,y)\n",
    "                \n",
    "\n",
    "\n",
    "def getTwoFurthestClusters(clusters,vectors):\n",
    "    x = clusters.keys()\n",
    "    centroids = []\n",
    "    for i in x:\n",
    "        sum_vector = np.zeros(len(vectors[0]))\n",
    "        s = 0\n",
    "        for j in clusters[i]:\n",
    "            sum_vector = np.add(sum_vector,vectors[j])\n",
    "        for j in range(len(vectors[0])):\n",
    "            sum_vector[j] = sum_vector[j]/len(vectors[0])\n",
    "        centroids.append(sum_vector)\n",
    "    return furthestCentroids(centroids)\n",
    "    "
   ]
  },
  {
   "cell_type": "code",
   "execution_count": 50,
   "metadata": {},
   "outputs": [
    {
     "name": "stdout",
     "output_type": "stream",
     "text": [
      "1.6565282580270024\n",
      "0\n",
      "1\n",
      "1.656506943287618\n",
      "0\n",
      "2\n",
      "1.6531144039479164\n",
      "0\n",
      "3\n",
      "1.6562511450192103\n",
      "0\n",
      "4\n",
      "1.656293780807384\n",
      "0\n",
      "5\n",
      "1.6529008039568516\n",
      "0\n",
      "6\n",
      "1.6567627020616833\n",
      "0\n",
      "7\n",
      "0.04030110523792201\n",
      "1\n",
      "2\n",
      "0.04284890347556962\n",
      "1\n",
      "3\n",
      "0.04030110523792201\n",
      "1\n",
      "4\n",
      "0.04030110523792201\n",
      "1\n",
      "5\n",
      "0.041167894836692066\n",
      "1\n",
      "6\n",
      "0.06117739402756738\n",
      "1\n",
      "7\n",
      "0.04201680672268908\n",
      "2\n",
      "3\n",
      "0.03941525848591117\n",
      "2\n",
      "4\n",
      "0.039415258485911174\n",
      "2\n",
      "5\n",
      "0.038509039453410415\n",
      "2\n",
      "6\n",
      "0.0605975004279662\n",
      "2\n",
      "7\n",
      "0.038509039453410415\n",
      "3\n",
      "4\n",
      "0.036629402886896416\n",
      "3\n",
      "5\n",
      "0.03758097441176117\n",
      "3\n",
      "6\n",
      "0.056371461617641755\n",
      "3\n",
      "7\n",
      "0.03565244274890156\n",
      "4\n",
      "5\n",
      "0.036629402886896416\n",
      "4\n",
      "6\n",
      "0.056994369606094684\n",
      "4\n",
      "7\n",
      "0.036629402886896416\n",
      "5\n",
      "6\n",
      "0.026573761850154448\n",
      "5\n",
      "7\n",
      "0.05761054286051297\n",
      "6\n",
      "7\n"
     ]
    }
   ],
   "source": [
    "(x,y)=getTwoFurthestClusters(clusters,vectors)"
   ]
  },
  {
   "cell_type": "code",
   "execution_count": null,
   "metadata": {},
   "outputs": [],
   "source": []
  }
 ],
 "metadata": {
  "interpreter": {
   "hash": "916dbcbb3f70747c44a77c7bcd40155683ae19c65e1c03b4aa3499c5328201f1"
  },
  "kernelspec": {
   "display_name": "Python 3",
   "language": "python",
   "name": "python3"
  },
  "language_info": {
   "codemirror_mode": {
    "name": "ipython",
    "version": 3
   },
   "file_extension": ".py",
   "mimetype": "text/x-python",
   "name": "python",
   "nbconvert_exporter": "python",
   "pygments_lexer": "ipython3",
   "version": "3.8.10"
  }
 },
 "nbformat": 4,
 "nbformat_minor": 2
}
