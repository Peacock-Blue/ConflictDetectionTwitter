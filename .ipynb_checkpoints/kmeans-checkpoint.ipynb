{
 "cells": [
  {
   "cell_type": "code",
   "execution_count": 1,
   "id": "handy-associate",
   "metadata": {},
   "outputs": [],
   "source": [
    "import re\n",
    "import tweepy\n",
    "import numpy as np\n",
    "from tweepy import OAuthHandler\n",
    "import os"
   ]
  },
  {
   "cell_type": "code",
   "execution_count": 2,
   "id": "f8de553d",
   "metadata": {},
   "outputs": [],
   "source": [
    "%load_ext dotenv\n",
    "%dotenv ./auth.txt"
   ]
  },
  {
   "cell_type": "code",
   "execution_count": 3,
   "id": "departmental-corpus",
   "metadata": {},
   "outputs": [],
   "source": [
    "class TwitterClient(object):\n",
    "    def __init__(self):\n",
    "        try:\n",
    "            self.auth = OAuthHandler(os.getenv('api_key'), os.getenv('api_secret'))\n",
    "            self.auth.set_access_token(os.getenv('oauth_token'), os.getenv('oauth_token_secret'))\n",
    "            self.api = tweepy.API(self.auth)\n",
    "        except Tweepy.TweepError:\n",
    "            print(\"Error: Authentication Failed\")\n",
    "\n",
    "    def get_tweets(self, query, count = 10):\n",
    "        tweets = []\n",
    "        try:\n",
    "            fetched_tweets = self.api.search_tweets(q = query, count = count)\n",
    "            for tweet in fetched_tweets:\n",
    "                if tweet.text not in tweets:\n",
    "                    tweets.append(tweet.text)\n",
    "            return tweets\n",
    "        except tweepy.TweepError as e:\n",
    "            print(\"Error : \" + str(e))\n",
    "            \n",
    "    def get_trending_tags(self):\n",
    "        trends1 = self.api.get_place_trends(1)\n",
    "        data = trends1[0] \n",
    "        trends = data['trends']\n",
    "        names = []\n",
    "        for trend in trends:\n",
    "            if trend['name'][0]=='#':\n",
    "                names.append(trend['name'])\n",
    "        return names"
   ]
  },
  {
   "cell_type": "code",
   "execution_count": 4,
   "id": "attended-seventh",
   "metadata": {},
   "outputs": [
    {
     "data": {
      "text/plain": [
       "['#UFC269',\n",
       " '#KAI1stConcert',\n",
       " '#KAIBeyondLIVE',\n",
       " '#生シノアリスWGC',\n",
       " '#ช้อปปี้1212xแอดมิว',\n",
       " '#pazar',\n",
       " '#PowerBookII',\n",
       " '#天皇杯',\n",
       " '#HBDSuperstarRajinikanth']"
      ]
     },
     "execution_count": 4,
     "metadata": {},
     "output_type": "execute_result"
    }
   ],
   "source": [
    "api = TwitterClient()\n",
    "# api.get_tweets(query = '#chess', count = 200)\n",
    "api.get_trending_tags()"
   ]
  },
  {
   "cell_type": "code",
   "execution_count": 5,
   "id": "stock-acting",
   "metadata": {},
   "outputs": [],
   "source": [
    "with open('data.txt', 'w') as f:\n",
    "    tweets = api.get_tweets('#FarmLaw', 20000)\n",
    "    for tweet in tweets:\n",
    "        f.write(tweet + \"_$_\")"
   ]
  },
  {
   "cell_type": "markdown",
   "id": "87e51c00",
   "metadata": {},
   "source": [
    "# Read Data"
   ]
  },
  {
   "cell_type": "code",
   "execution_count": 6,
   "id": "e7f59b59",
   "metadata": {},
   "outputs": [],
   "source": [
    "f = open('data.txt', 'r')\n",
    "tweets = f.read().split('_$_')\n",
    "f.close()"
   ]
  },
  {
   "cell_type": "markdown",
   "id": "cae7da8d",
   "metadata": {},
   "source": [
    "# Preprocess"
   ]
  },
  {
   "cell_type": "code",
   "execution_count": 7,
   "id": "3fbcb4f1",
   "metadata": {},
   "outputs": [],
   "source": [
    "import re\n",
    "import string\n",
    "\n",
    "from nltk.corpus import stopwords\n",
    "from nltk.stem import PorterStemmer\n",
    "from nltk.tokenize import TweetTokenizer\n",
    "from nltk import download\n",
    "# download('stopwords')\n",
    "\n",
    "def process_tweet(tweet):\n",
    "    '''\n",
    "    Input:\n",
    "        tweet: a string containing a tweet\n",
    "    Output:\n",
    "        tweets_clean: a list of words containing the processed tweet\n",
    "\n",
    "    '''\n",
    "    stemmer = PorterStemmer()\n",
    "    stopwords_english = stopwords.words('english')\n",
    "    # remove stock market tickers like $GE\n",
    "    tweet = re.sub(r'\\$\\w*', '', tweet)\n",
    "    # remove old style retweet text \"RT\"\n",
    "    tweet = re.sub(r'^RT[\\s]+', '', tweet)\n",
    "    # remove hyperlinks\n",
    "    tweet = re.sub(r'https?:\\/\\/.*[\\r\\n]*', '', tweet)\n",
    "    # remove hashtags\n",
    "    # only removing the hash # sign from the word\n",
    "    tweet = re.sub(r'#', '', tweet)\n",
    "    # tokenize tweets\n",
    "    tokenizer = TweetTokenizer(preserve_case=False, strip_handles=True,\n",
    "                               reduce_len=True)\n",
    "    tweet_tokens = tokenizer.tokenize(tweet)\n",
    "\n",
    "    tweets_clean = []\n",
    "    for word in tweet_tokens:\n",
    "        if (word not in stopwords_english and  # remove stopwords\n",
    "            word not in string.punctuation):  # remove punctuation\n",
    "            # tweets_clean.append(word)\n",
    "            stem_word = stemmer.stem(word)  # stemming word\n",
    "            tweets_clean.append(stem_word)\n",
    "\n",
    "    tweets_eng = []\n",
    "    for word in tweets_clean:\n",
    "        flag = True\n",
    "        for i in word:\n",
    "            if ord(i) >= 256:\n",
    "                flag = False\n",
    "                break\n",
    "        if flag:\n",
    "            tweets_eng.append(word)\n",
    "    return tweets_eng"
   ]
  },
  {
   "cell_type": "code",
   "execution_count": 8,
   "id": "05fd7225",
   "metadata": {},
   "outputs": [],
   "source": [
    "processed_tweets = [process_tweet(tweet) for tweet in tweets]\n",
    "while [] in processed_tweets:\n",
    "    processed_tweets.remove([])"
   ]
  },
  {
   "cell_type": "code",
   "execution_count": 9,
   "id": "637797be",
   "metadata": {},
   "outputs": [
    {
     "data": {
      "text/plain": [
       "58"
      ]
     },
     "execution_count": 9,
     "metadata": {},
     "output_type": "execute_result"
    }
   ],
   "source": [
    "len(processed_tweets)"
   ]
  },
  {
   "cell_type": "code",
   "execution_count": 10,
   "id": "9bceb7cb",
   "metadata": {},
   "outputs": [],
   "source": [
    "def count_words(tweet:list, freqs:dict, wordToTweet:dict):\n",
    "    for word in tweet:\n",
    "        if word in freqs:\n",
    "            freqs[word] += 1\n",
    "            wordToTweet[word].append(tweet)\n",
    "        else:\n",
    "            freqs[word] = 1\n",
    "            wordToTweet[word] = [tweet]\n",
    "    return freqs"
   ]
  },
  {
   "cell_type": "code",
   "execution_count": 11,
   "id": "65f75071",
   "metadata": {},
   "outputs": [],
   "source": [
    "freqs = dict()\n",
    "wordToTweet = dict()\n",
    "for tweet in processed_tweets:\n",
    "    count_words(tweet, freqs, wordToTweet)"
   ]
  },
  {
   "cell_type": "code",
   "execution_count": 12,
   "id": "4e23828b",
   "metadata": {},
   "outputs": [
    {
     "data": {
      "text/plain": [
       "{'farm': 6,\n",
       " 'law': 2,\n",
       " 'repeal': 2,\n",
       " 'watch': 2,\n",
       " 'farmersprotest': 13,\n",
       " 'farmlawsrep': 5,\n",
       " 'farmlaw': 26,\n",
       " 'khalistani': 1,\n",
       " 'farmersv': 1,\n",
       " 'kisan': 6,\n",
       " 'taught': 1,\n",
       " 'modi': 1,\n",
       " 'govt': 2,\n",
       " 'lesson': 1,\n",
       " 'dictatorship': 1,\n",
       " 'work': 2,\n",
       " 'rememb': 1,\n",
       " 'pay': 2,\n",
       " 'homag': 1,\n",
       " 'martyr': 1,\n",
       " '..': 3,\n",
       " 'red': 1,\n",
       " 'salut': 1,\n",
       " 'com': 1,\n",
       " '...': 4,\n",
       " 'may': 1,\n",
       " 'yet': 1,\n",
       " 'closer': 1,\n",
       " 'yesterday': 1,\n",
       " 'join': 1,\n",
       " '3': 4,\n",
       " 'day': 2,\n",
       " 'free': 1,\n",
       " 'fit': 1,\n",
       " 'yoga': 1,\n",
       " 'class': 1,\n",
       " 'toh': 1,\n",
       " 'ba': 1,\n",
       " 'ek': 1,\n",
       " 'jhaki': 1,\n",
       " 'hai': 2,\n",
       " 'hazar': 1,\n",
       " 'chaubi': 1,\n",
       " 'abhi': 1,\n",
       " 'baaqi': 1,\n",
       " 'kisanmaj': 1,\n",
       " 'filucknow': 1,\n",
       " 'farmer': 23,\n",
       " 'hold': 1,\n",
       " 'havan': 1,\n",
       " 'pray': 1,\n",
       " 'gen': 1,\n",
       " 'rawat': 1,\n",
       " 'victim': 1,\n",
       " 'read': 1,\n",
       " 'uttarpradesh': 1,\n",
       " 'andolan': 2,\n",
       " 'news': 2,\n",
       " 'janta': 1,\n",
       " 'tv': 1,\n",
       " 'farmerprotest': 4,\n",
       " 'singhu': 8,\n",
       " 'border': 3,\n",
       " 'delhinew': 2,\n",
       " 'farmerslaw': 2,\n",
       " 'farmersprot': 1,\n",
       " 'jantatv': 1,\n",
       " 'punjabgovern': 1,\n",
       " 'farmerswon': 1,\n",
       " 'delhi': 5,\n",
       " 'punjab': 1,\n",
       " '700': 1,\n",
       " 'centralgovern': 1,\n",
       " 'thank': 1,\n",
       " 'final': 1,\n",
       " 'justic': 1,\n",
       " 'serv': 1,\n",
       " 'sit': 1,\n",
       " 'road': 1,\n",
       " 'fro': 1,\n",
       " 'kisanektazindabaad': 1,\n",
       " 'kisanmajdoorektazindabaad': 1,\n",
       " 'food': 1,\n",
       " 'futur': 1,\n",
       " 'breakingnow': 1,\n",
       " 'protest': 10,\n",
       " 'end': 2,\n",
       " 'skm': 3,\n",
       " '11': 4,\n",
       " 'start': 5,\n",
       " 'campaign': 1,\n",
       " 'meet': 1,\n",
       " 'consum': 1,\n",
       " 'demand': 2,\n",
       " 'cost': 1,\n",
       " 'effect': 1,\n",
       " 'price': 1,\n",
       " 'give': 1,\n",
       " 'right': 1,\n",
       " 'amount': 1,\n",
       " 'hard': 1,\n",
       " 'farmerd': 1,\n",
       " 'breakingnew': 1,\n",
       " '32': 1,\n",
       " 'far': 1,\n",
       " 'matter': 1,\n",
       " 'compens': 1,\n",
       " 'concern': 1,\n",
       " 'haryana': 1,\n",
       " 'given': 1,\n",
       " 'in-principl': 1,\n",
       " 'consent': 1,\n",
       " 'letter': 1,\n",
       " 'rea': 2,\n",
       " 'newsj': 1,\n",
       " 'agr': 1,\n",
       " 'yhi': 1,\n",
       " 'karna': 1,\n",
       " 'tha': 1,\n",
       " 'itn': 1,\n",
       " 'din': 1,\n",
       " 'tk': 1,\n",
       " 'natk': 1,\n",
       " 'ku': 1,\n",
       " 'kiya': 1,\n",
       " 'gya': 1,\n",
       " 'kitn': 1,\n",
       " 'logo': 1,\n",
       " 'ne': 1,\n",
       " 'apni': 1,\n",
       " 'jan': 2,\n",
       " 'tak': 1,\n",
       " 'gwa': 1,\n",
       " 'dii': 1,\n",
       " '26': 1,\n",
       " 'ka': 1,\n",
       " 'violenc': 1,\n",
       " 'duniya': 1,\n",
       " 'bhar': 1,\n",
       " 'farmlawrep': 1,\n",
       " 'centr': 2,\n",
       " 'send': 1,\n",
       " 'revis': 2,\n",
       " 'propos': 2,\n",
       " 'revisedpropos': 1,\n",
       " 'good': 1,\n",
       " 'andolan.kisan': 1,\n",
       " 'field': 1,\n",
       " '378': 1,\n",
       " '15': 2,\n",
       " 'justin': 7,\n",
       " 'delhibord': 1,\n",
       " 'tribut': 1,\n",
       " 'sacrif': 1,\n",
       " 'live': 1,\n",
       " 'victori': 1,\n",
       " 'wit': 1,\n",
       " 'today': 1,\n",
       " 'union': 1,\n",
       " 'call': 1,\n",
       " 'agit': 1,\n",
       " 'hand': 1,\n",
       " 'remov': 5,\n",
       " 'tent': 5,\n",
       " 'site': 4,\n",
       " 'delhi-haryana': 4,\n",
       " 'prepar': 4,\n",
       " 'leav': 4,\n",
       " 'h': 1,\n",
       " 'ho': 1,\n",
       " 'ou': 2,\n",
       " 'http': 1,\n",
       " 'farmew': 1,\n",
       " 'struggl': 1,\n",
       " 'singhubord': 1,\n",
       " 'samyuktakisanmorcha': 1,\n",
       " 'video': 1,\n",
       " 'f': 1}"
      ]
     },
     "execution_count": 12,
     "metadata": {},
     "output_type": "execute_result"
    }
   ],
   "source": [
    "freqs"
   ]
  },
  {
   "cell_type": "code",
   "execution_count": 13,
   "id": "a29dea07",
   "metadata": {},
   "outputs": [
    {
     "data": {
      "text/plain": [
       "[('farmlaw', 26),\n",
       " ('farmer', 23),\n",
       " ('farmersprotest', 13),\n",
       " ('protest', 10),\n",
       " ('singhu', 8),\n",
       " ('justin', 7),\n",
       " ('farm', 6),\n",
       " ('kisan', 6),\n",
       " ('farmlawsrep', 5),\n",
       " ('delhi', 5)]"
      ]
     },
     "execution_count": 13,
     "metadata": {},
     "output_type": "execute_result"
    }
   ],
   "source": [
    "freq_sorted = list(freqs.items())\n",
    "freq_sorted.sort(key = lambda x : -x[1])\n",
    "freq_sorted[:10]"
   ]
  },
  {
   "cell_type": "markdown",
   "id": "4d33e098",
   "metadata": {},
   "source": [
    "# Clustering"
   ]
  },
  {
   "cell_type": "code",
   "execution_count": 14,
   "id": "048b699c",
   "metadata": {},
   "outputs": [],
   "source": [
    "def vectorize(tweet, alphabet):\n",
    "    v = np.zeros(len(alphabet))\n",
    "    for i in range(len(alphabet)):\n",
    "        if alphabet[i] in tweet:\n",
    "            v[i] += 1\n",
    "    return v"
   ]
  },
  {
   "cell_type": "code",
   "execution_count": 15,
   "id": "0c5a657a",
   "metadata": {},
   "outputs": [],
   "source": [
    "def closestCluster(vector, centroids):\n",
    "    closest = -1\n",
    "    minDist = 2**30\n",
    "    for key in centroids:\n",
    "        dist = np.linalg.norm(centroids[key] - vector)\n",
    "        if dist < minDist:\n",
    "            minDist = dist\n",
    "            closest = key\n",
    "    return closest"
   ]
  },
  {
   "cell_type": "code",
   "execution_count": 16,
   "id": "dc117ddf",
   "metadata": {},
   "outputs": [],
   "source": [
    "def assignToCluster(clusters, vectors, centroids):\n",
    "    for i in range(len(vectors)):\n",
    "        c = closestCluster(vectors[i], centroids)\n",
    "        clusters[c].append(i)\n",
    "    return clusters"
   ]
  },
  {
   "cell_type": "code",
   "execution_count": 17,
   "id": "3a038a53",
   "metadata": {},
   "outputs": [],
   "source": [
    "def kmeans(k, max_iter, vectors):\n",
    "    clusters = {}\n",
    "    centroids = {}\n",
    "    idx = np.random.choice(len(vectors), k, replace=False)\n",
    "    for i in range(k):\n",
    "        clusters[i] = []\n",
    "        centroids[i] = vectors[idx[i]] \n",
    "    clusters = assignToCluster(clusters, vectors, centroids)\n",
    "    for _ in range(max_iter-1):\n",
    "        for i in range(k):\n",
    "            centroids[i] = np.zeros(len(alphabet))\n",
    "            for j in clusters[i]:\n",
    "                centroids[i] = centroids[i] + vectors[j]\n",
    "            if clusters[i] != []:\n",
    "                centroids[i] = centroids[i] / len(clusters[i])\n",
    "            if len(clusters[i]):\n",
    "                clusters[i].clear()\n",
    "        clusters = assignToCluster(clusters, vectors, centroids)\n",
    "    return clusters"
   ]
  },
  {
   "cell_type": "code",
   "execution_count": 22,
   "id": "07b0974f",
   "metadata": {},
   "outputs": [],
   "source": [
    "alphabet = [i[0] for i in freq_sorted]\n",
    "clusters = dict()\n",
    "vectors = dict()\n",
    "for i in range(len(processed_tweets)):\n",
    "    vectors[i] = vectorize(processed_tweets[i], alphabet)\n",
    "clusters[0] = [i for i in range(len(processed_tweets))]"
   ]
  },
  {
   "cell_type": "code",
   "execution_count": 23,
   "id": "38018877",
   "metadata": {},
   "outputs": [],
   "source": [
    "clusters = kmeans(4, 100, vectors)"
   ]
  },
  {
   "cell_type": "code",
   "execution_count": 24,
   "id": "4ed52ceb",
   "metadata": {},
   "outputs": [
    {
     "data": {
      "text/plain": [
       "{0: [2,\n",
       "  3,\n",
       "  4,\n",
       "  5,\n",
       "  6,\n",
       "  7,\n",
       "  8,\n",
       "  9,\n",
       "  10,\n",
       "  11,\n",
       "  12,\n",
       "  13,\n",
       "  14,\n",
       "  15,\n",
       "  16,\n",
       "  17,\n",
       "  18,\n",
       "  19,\n",
       "  20,\n",
       "  21,\n",
       "  22,\n",
       "  23,\n",
       "  24,\n",
       "  25,\n",
       "  26,\n",
       "  27,\n",
       "  28,\n",
       "  29,\n",
       "  30,\n",
       "  31,\n",
       "  32,\n",
       "  33,\n",
       "  34,\n",
       "  36,\n",
       "  37,\n",
       "  38,\n",
       "  39,\n",
       "  40,\n",
       "  41,\n",
       "  42,\n",
       "  43,\n",
       "  44,\n",
       "  45,\n",
       "  46,\n",
       "  47,\n",
       "  48,\n",
       "  49,\n",
       "  50,\n",
       "  51,\n",
       "  52,\n",
       "  53,\n",
       "  54,\n",
       "  55,\n",
       "  56,\n",
       "  57],\n",
       " 1: [0],\n",
       " 2: [1],\n",
       " 3: [35]}"
      ]
     },
     "execution_count": 24,
     "metadata": {},
     "output_type": "execute_result"
    }
   ],
   "source": [
    "clusters"
   ]
  },
  {
   "cell_type": "code",
   "execution_count": 21,
   "id": "a4d202d4",
   "metadata": {},
   "outputs": [
    {
     "name": "stdout",
     "output_type": "stream",
     "text": [
      "178\n"
     ]
    }
   ],
   "source": [
    "print(len(alphabet))"
   ]
  },
  {
   "cell_type": "code",
   "execution_count": null,
   "id": "e4765e66",
   "metadata": {},
   "outputs": [],
   "source": []
  }
 ],
 "metadata": {
  "kernelspec": {
   "display_name": "Python 3 (ipykernel)",
   "language": "python",
   "name": "python3"
  },
  "language_info": {
   "codemirror_mode": {
    "name": "ipython",
    "version": 3
   },
   "file_extension": ".py",
   "mimetype": "text/x-python",
   "name": "python",
   "nbconvert_exporter": "python",
   "pygments_lexer": "ipython3",
   "version": "3.9.2"
  }
 },
 "nbformat": 4,
 "nbformat_minor": 5
}
