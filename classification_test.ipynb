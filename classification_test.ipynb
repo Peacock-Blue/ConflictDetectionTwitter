{
 "cells": [
  {
   "cell_type": "code",
   "execution_count": 4,
   "metadata": {},
   "outputs": [],
   "source": [
    "from kmeans_test import *\n",
    "from pathlib import Path"
   ]
  },
  {
   "cell_type": "code",
   "execution_count": 5,
   "metadata": {},
   "outputs": [],
   "source": [
    "#kmeans_test('datasets/d8.txt')\n",
    "with open('catalogue.txt') as cat:\n",
    "    catalogue = cat.read().split(' ')"
   ]
  },
  {
   "cell_type": "code",
   "execution_count": 6,
   "metadata": {},
   "outputs": [
    {
     "name": "stdout",
     "output_type": "stream",
     "text": [
      "datasets/d39.txt : tuesdayvibe : True\n",
      "datasets/d48.txt : DearVenmo : True\n",
      "datasets/d45.txt : HappyBirthdayTaylorSwift : True\n",
      "datasets/d25.txt : tuesdayvibe : True\n",
      "datasets/d13.txt : MondayMotivation : True\n",
      "datasets/d38.txt : MondayMotivation : True\n",
      "datasets/d30.txt : WeTheNorth : True\n",
      "datasets/d20.txt : tuesdayvibe : True\n",
      "datasets/d21.txt : GreyCup2021 : True\n",
      "datasets/d23.txt : MondayMotivation : True\n",
      "datasets/d35.txt : tuesdayvibe : True\n",
      "datasets/d31.txt : tuesdayvibe : True\n",
      "datasets/d18.txt : MondayMotivation : True\n",
      "datasets/d19.txt : tuesdaymotivations : True\n",
      "datasets/d29.txt : tuesdaymotivations : True\n",
      "datasets/d46.txt : MondayMotivation : True\n",
      "datasets/d36.txt : GreyCup2021 : True\n",
      "Empty kmeans call\n",
      "exception occurred\n",
      "datasets/d0.txt : ハンオシ : False\n",
      "datasets/d11.txt : GreyCup2021 : True\n",
      "datasets/d22.txt : HappyBirthdayTaylorSwift : True\n",
      "datasets/d43.txt : tuesdayvibe : True\n",
      "datasets/d47.txt : tuesdaymotivations : True\n",
      "datasets/d8.txt : DearVenmo : True\n",
      "datasets/d49.txt : SandyHook : True\n",
      "datasets/d42.txt : MondayMotivation : True\n",
      "datasets/d12.txt : HappyBirthdayTaylorSwift : True\n",
      "datasets/d44.txt : GreyCup2021 : True\n",
      "datasets/d15.txt : tuesdayvibe : True\n",
      "datasets/d26.txt : GreyCup2021 : True\n",
      "datasets/d16.txt : GreyCup2021 : True\n",
      "datasets/d28.txt : MondayMotivation : True\n",
      "datasets/d33.txt : HappyBirthdayTaylorSwift : True\n",
      "datasets/d10.txt : tuesdayvibe : True\n",
      "datasets/d14.txt : tuesdaymotivations : True\n",
      "datasets/d17.txt : HappyBirthdayTaylorSwift : True\n",
      "datasets/d24.txt : tuesdaymotivations : True\n",
      "datasets/d37.txt : HappyBirthdayTaylorSwift : True\n",
      "datasets/d34.txt : MondayMotivation : True\n",
      "datasets/d1.txt : ValimaiMakingVideo : True\n",
      "datasets/d32.txt : GreyCup2021 : True\n",
      "datasets/d41.txt : HappyBirthdayTaylorSwift : True\n",
      "datasets/d27.txt : HappyBirthdayTaylorSwift : True\n",
      "datasets/d40.txt : GreyCup2021 : True\n"
     ]
    }
   ],
   "source": [
    "dataset_dir = Path('datasets')\n",
    "conflicts = 0\n",
    "oneways = 0\n",
    "for filename in dataset_dir.iterdir():\n",
    "    try:\n",
    "        inx = int(str(filename)[10:-4])\n",
    "        print('{} : {} : {}'.format(filename, catalogue[inx], kmeans_test(filename,10,200,1)))\n",
    "    except Exception:\n",
    "        print('{} : |{}|'.format(filename, False))\n"
   ]
  },
  {
   "cell_type": "code",
   "execution_count": null,
   "metadata": {},
   "outputs": [],
   "source": [
    "filename = 'datasets/d40.txt'\n",
    "int(filename[10:-4])"
   ]
  },
  {
   "cell_type": "code",
   "execution_count": null,
   "metadata": {},
   "outputs": [],
   "source": []
  }
 ],
 "metadata": {
  "interpreter": {
   "hash": "916dbcbb3f70747c44a77c7bcd40155683ae19c65e1c03b4aa3499c5328201f1"
  },
  "kernelspec": {
   "display_name": "Python 3.9.7 64-bit",
   "name": "python3"
  },
  "language_info": {
   "codemirror_mode": {
    "name": "ipython",
    "version": 3
   },
   "file_extension": ".py",
   "mimetype": "text/x-python",
   "name": "python",
   "nbconvert_exporter": "python",
   "pygments_lexer": "ipython3",
   "version": "3.9.7"
  },
  "orig_nbformat": 4
 },
 "nbformat": 4,
 "nbformat_minor": 2
}
