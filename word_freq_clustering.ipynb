{
 "cells": [
  {
   "cell_type": "code",
   "execution_count": 1,
   "metadata": {},
   "outputs": [],
   "source": [
    "import os\n",
    "import re\n",
    "import tweepy\n",
    "from tweepy import OAuthHandler\n",
    "from textblob import TextBlob"
   ]
  },
  {
   "cell_type": "code",
   "execution_count": 2,
   "metadata": {},
   "outputs": [],
   "source": [
    "%load_ext dotenv\n",
    "%dotenv ./auth.txt"
   ]
  },
  {
   "cell_type": "code",
   "execution_count": 3,
   "metadata": {},
   "outputs": [],
   "source": [
    "\n",
    "\n",
    "class TwitterClient(object):\n",
    "    def __init__(self):\n",
    "        try:\n",
    "            self.auth = OAuthHandler(os.getenv('api_key'), os.getenv('api_secret'))\n",
    "            self.auth.set_access_token(os.getenv('oauth_token'), os.getenv('oauth_token_secret'))\n",
    "            self.api = tweepy.API(self.auth)\n",
    "            assert self.api\n",
    "        except:\n",
    "            print(\"Error: Authentication Failed\")\n",
    "    \n",
    "    \n",
    "    def get_tweets(self, query, count = 10):\n",
    "        tweets = []\n",
    "        try:\n",
    "            fetched_tweets = self.api.search_tweets(q = query, count = count)\n",
    "            for tweet in fetched_tweets:\n",
    "                parsed_tweet = {}\n",
    "                parsed_tweet['text'] = tweet.text\n",
    "                parsed_tweet['sentiment'] = self.get_tweet_sentiment(tweet.text)\n",
    "                if tweet.retweet_count > 0:\n",
    "                    if parsed_tweet not in tweets:\n",
    "                        tweets.append(parsed_tweet)\n",
    "                else:\n",
    "                    tweets.append(parsed_tweet)\n",
    "            return tweets\n",
    "        except tweepy.TweepyException as e:\n",
    "            print(\"Error : \" + str(e))\n",
    "\n",
    "    def fetch_tweets(self, query, count = 10):\n",
    "        try:\n",
    "            return self.api.search_tweets(q = query, count = count)\n",
    "        except tweepy.TweepyException as e:\n",
    "            print(\"Error : \" + str(e))  "
   ]
  },
  {
   "cell_type": "code",
   "execution_count": 4,
   "metadata": {},
   "outputs": [],
   "source": [
    "tc = TwitterClient()\n",
    "#tc.fetch_tweets('#FarmLaws',1)"
   ]
  },
  {
   "cell_type": "code",
   "execution_count": 41,
   "metadata": {},
   "outputs": [],
   "source": [
    "## The tweets have been fetched and stored in a file. \n",
    "## Use the cached tweets for consistent results instead of fetching new from twitter.\n",
    "with open('divtext.txt', 'w') as f:\n",
    "    tweets = tc.fetch_tweets('#messi',8000)\n",
    "    for tweet in tweets:\n",
    "        f.write(tweet.text + \"_$_\")"
   ]
  },
  {
   "cell_type": "markdown",
   "metadata": {},
   "source": [
    "# 1. Data Preparation"
   ]
  },
  {
   "cell_type": "markdown",
   "metadata": {},
   "source": [
    "## 1.1 Fetch from file"
   ]
  },
  {
   "cell_type": "code",
   "execution_count": 42,
   "metadata": {},
   "outputs": [],
   "source": [
    "\n",
    "f = open('divtext.txt', 'r')\n",
    "tweets = f.read().split('_$_')\n",
    "f.close()"
   ]
  },
  {
   "cell_type": "code",
   "execution_count": 43,
   "metadata": {},
   "outputs": [
    {
     "data": {
      "text/plain": [
       "['RT @ActualiteBarca: 💣  Nouvelle vidéo ! \\n\\nLe #Barca en négociations avec CVC, si le deal se fait, le club pourra recruter «\\xa0gros\\xa0» en été.…',\n",
       " 'RT @365Scores: 🚨Special Announcement: Our sharp minds at #365Scores have decided to pitch-in ALL our opinions and pick OUR #PlayerOfTheYear…',\n",
       " \"#Aguero si ritira: arriva il commovente messaggio di #Messi: Il sette volte Pallone d'oro ha voluto omaggiare il su… https://t.co/d12QKGywVL\",\n",
       " 'RT @messi10_rey: Leo #Messi🗣️: Prácticamente toda una carrera juntos, Kun… Vivimos momentos muy lindos y otros q no lo fueron tanto, todos…',\n",
       " '#Messi despidió a su mejor amigo dentro de la cancha: \"Voy a extrañar muchísimo estar con vos\"\\n\\nhttps://t.co/xMmadqcCWc',\n",
       " 'RT @tonydebiase10: El Mural más grande del mundo para el mejor jugador del mundo\\n#Messi \\n#rosario\\n#MessiahHasCome \\n#messi7 https://t.co/Ipi…',\n",
       " 'RT @PabloFMarino: \"Maradona conquistó Italia, Messi lo hizo en España y Agüero lo hizo en Inglaterra\"...\\nUna frase espectacular de Pep Guar…',\n",
       " 'La sensible reacción de #Messi al retiro del #KunAgüero: “Te quiero mucho” https://t.co/9itQAMguwt',\n",
       " 'Sergio #Agüero anunció su retiro del fútbol profesional y su compañero y gran amigo Lionel #Messi no tardó en dedic… https://t.co/ZWzCC3WgS4',\n",
       " 'RT @ESPNArgentina: #GraciasKun 🤟🏼🇦🇷 ¡Para seguir emocionándose! #Messi y las palabras que le dedicó a su gran amigo vía #Instagram. ¡Que du…',\n",
       " 'RT @PabloFMarino: \"Maradona conquistó Italia, Messi lo hizo en España y Agüero lo hizo en Inglaterra\"...\\nUna frase espectacular de Pep Guar…',\n",
       " 'RT @messi10_rey: Luego está Leo #Messi:\\n2012 - 69 partidos, 91 goles (Record Mundial) !\\n*Sigan Participando😎 https://t.co/pFDKq23HkB',\n",
       " \"Has FIFA got this right?\\n\\nAlso, don't forget to visit our website to play football in your local area!… https://t.co/5ZuQIJxrCj\",\n",
       " 'RT @MUFCVIC1: Lionel Messi\\n“There has always been a great deal of respect between myself and Wayne Rooney. For me he is the greatest Englis…',\n",
       " 'RT @PabloFMarino: \"Maradona conquistó Italia, Messi lo hizo en España y Agüero lo hizo en Inglaterra\"...\\nUna frase espectacular de Pep Guar…',\n",
       " 'RT @ESPNArgentina: #GraciasKun 🤟🏼🇦🇷 ¡Para seguir emocionándose! #Messi y las palabras que le dedicó a su gran amigo vía #Instagram. ¡Que du…',\n",
       " 'RT @ESPNArgentina: Futbolistas pero primero, Amigos: campeones del mundo sub-20 🏆, Medalla de oro 🥇 en los Juegos Olímpicos de 2008, campeo…',\n",
       " 'RT @ESPNArgentina: #GraciasKun 🤟🏼🇦🇷 ¡Para seguir emocionándose! #Messi y las palabras que le dedicó a su gran amigo vía #Instagram. ¡Que du…',\n",
       " 'RT @ESPNArgentina: #GraciasKun 🤟🏼🇦🇷 ¡Para seguir emocionándose! #Messi y las palabras que le dedicó a su gran amigo vía #Instagram. ¡Que du…',\n",
       " 'Dos grandes amigos @aguerosergiokun  y #Messi #despedida #KunAguero #Messi https://t.co/yN0PVrsfcA',\n",
       " 'RT @ESPNArgentina: #GraciasKun 🤟🏼🇦🇷 ¡Para seguir emocionándose! #Messi y las palabras que le dedicó a su gran amigo vía #Instagram. ¡Que du…',\n",
       " 'RT @ESPNArgentina: #GraciasKun 🤟🏼🇦🇷 ¡Para seguir emocionándose! #Messi y las palabras que le dedicó a su gran amigo vía #Instagram. ¡Que du…',\n",
       " 'RT @ESPNArgentina: #GraciasKun 🤟🏼🇦🇷 ¡Para seguir emocionándose! #Messi y las palabras que le dedicó a su gran amigo vía #Instagram. ¡Que du…',\n",
       " \"Sergio Kun Aguerro pensiun dini umur 33 th karena masalah gangguan jantung\\n\\nHappy retirement Kun 👏\\nThank's for All… https://t.co/5ktYC1ZnSg\",\n",
       " 'RT @ESPNArgentina: #GraciasKun 🤟🏼🇦🇷 ¡Para seguir emocionándose! #Messi y las palabras que le dedicó a su gran amigo vía #Instagram. ¡Que du…',\n",
       " 'RT @ESPNArgentina: #GraciasKun 🤟🏼🇦🇷 ¡Para seguir emocionándose! #Messi y las palabras que le dedicó a su gran amigo vía #Instagram. ¡Que du…',\n",
       " '@MetakingsAI #ElanMusk #CristianoRonaldo #Messi',\n",
       " 'RT @ESPNArgentina: #GraciasKun 🤟🏼🇦🇷 ¡Para seguir emocionándose! #Messi y las palabras que le dedicó a su gran amigo vía #Instagram. ¡Que du…',\n",
       " 'Lionel Messi Pays Emotional Tribute to Sergio Aguero After Argentine Striker’s Retirement From Football (Check Post… https://t.co/nvqjvUj5F8',\n",
       " 'RT @ESPNArgentina: #GraciasKun 🤟🏼🇦🇷 ¡Para seguir emocionándose! #Messi y las palabras que le dedicó a su gran amigo vía #Instagram. ¡Que du…',\n",
       " 'Happy_Retirement_Kun_Aguero 🇦🇷\\n🖤🖤🖤\\nThank you for everything\\n#Messi \\n#agouero\\n#Argentina \\n#Neymar \\n#sergioaguero… https://t.co/EGlH3kZ8X1',\n",
       " 'RT @ESPNArgentina: Futbolistas pero primero, Amigos: campeones del mundo sub-20 🏆, Medalla de oro 🥇 en los Juegos Olímpicos de 2008, campeo…',\n",
       " 'RT @notice_com_ng: Bandits kill Kaduna lawmaker in Zaria attack - https://t.co/kSh1fc2HM8 #Nigerian News #kaduna #zaria#BBnaija #Messi #Wiz…',\n",
       " 'RT @AlejandroMilin4: Pregunta seria, por qué @Cristiano tiene que hacer más que #Messi para que se le reconozca el trabajo?',\n",
       " 'RT @PabloFMarino: \"Maradona conquistó Italia, Messi lo hizo en España y Agüero lo hizo en Inglaterra\"...\\nUna frase espectacular de Pep Guar…',\n",
       " 'RT @ESPNArgentina: Futbolistas pero primero, Amigos: campeones del mundo sub-20 🏆, Medalla de oro 🥇 en los Juegos Olímpicos de 2008, campeo…',\n",
       " 'Bandits kill Kaduna lawmaker in Zaria attack - https://t.co/kSh1fc2HM8 #Nigerian News #kaduna #zaria#BBnaija #Messi #Wizkid #Davido',\n",
       " 'RT @amna_sportgr: Η διαδρομή του @aguerosergiokun... μεταξύ 427 γκολ και 21 τίτλων\\n\\n➡️ https://t.co/m4hiHqgBmt\\n\\nΤο μήνυμα #Μέσι σε #Αγουέρο…',\n",
       " 'El emotivo mensaje de #Messi para el #KunAgüero: https://t.co/o0SIVPmdHD https://t.co/EjzBy46ZAO',\n",
       " '¡LA EMOTIVA CARTA DE LEO MESSI!\\n\\nLionel #Messi usó su #Instagram para publicar una emotiva carta para el Kun… https://t.co/iLDy9fGweD',\n",
       " '#Messi le compartió un mensaje al #KunAgüero en sus redes sociales\\nhttps://t.co/aH79F6IYzm',\n",
       " \"Messi, 7th Ballon D' Or. \\n.\\n.\\n.\\n#Messi #messiballondor https://t.co/FfpiZdme2H\",\n",
       " 'AMIGOS DE TODA LA VIDA😭🤗|| (FOTO) Interminable despedida de Lionel Messi para Kun Agüero🔟🇦🇷\\n\\n#KunAgüero #Messi\\n\\n⬇️… https://t.co/bIuogcdmJP',\n",
       " 'Η διαδρομή του @aguerosergiokun... μεταξύ 427 γκολ και 21 τίτλων\\n\\n➡️ https://t.co/m4hiHqgBmt\\n\\nΤο μήνυμα #Μέσι σε… https://t.co/TUEu3N5Ueh',\n",
       " 'Les batards … #UEFA #Foot #PSG #RealMadrid #Mbappe #Messi  #LDC  #HalaMadrid  #Ligue1UberEats https://t.co/ldfOFjBaCk',\n",
       " 'RT @ESPNArgentina: #GraciasKun 🤟🏼🇦🇷 ¡Para seguir emocionándose! #Messi y las palabras que le dedicó a su gran amigo vía #Instagram. ¡Que du…',\n",
       " 'RT @messi10_rey: Leo #Messi🗣️: Prácticamente toda una carrera juntos, Kun… Vivimos momentos muy lindos y otros q no lo fueron tanto, todos…',\n",
       " 'Lionel #Messi obtuvo el premio Olimpia de Oro 2021: la lista completa de ganadores\\n#Argentina #PremioOlimpia… https://t.co/7Xod385rI0',\n",
       " \"RT @jasonpettigrove: Out TOMORROW 🙌\\n\\n#Messi The King of Camp Nou\\n\\nDirect Link: https://t.co/AIKlLW8jWh\\n\\nA couple of special thank you's too…\",\n",
       " 'RT @messi10_rey: Leo #Messi🗣️: Prácticamente toda una carrera juntos, Kun… Vivimos momentos muy lindos y otros q no lo fueron tanto, todos…',\n",
       " 'RT @messi10_rey: Leo #Messi🗣️: Prácticamente toda una carrera juntos, Kun… Vivimos momentos muy lindos y otros q no lo fueron tanto, todos…',\n",
       " 'RT @ESPNArgentina: #GraciasKun 🤟🏼🇦🇷 ¡Para seguir emocionándose! #Messi y las palabras que le dedicó a su gran amigo vía #Instagram. ¡Que du…',\n",
       " 'RT @ESPNArgentina: #GraciasKun 🤟🏼🇦🇷 ¡Para seguir emocionándose! #Messi y las palabras que le dedicó a su gran amigo vía #Instagram. ¡Que du…',\n",
       " 'RT @LAVOZcomar: Había mucha expectativa por las palabras de Messi, tras el anuncio del @aguerosergiokun. Y #Messi dejó hermosas palabras en…',\n",
       " 'RT @ESPNArgentina: #GraciasKun 🤟🏼🇦🇷 ¡Para seguir emocionándose! #Messi y las palabras que le dedicó a su gran amigo vía #Instagram. ¡Que du…',\n",
       " '\"Maradona conquistó Italia, Messi lo hizo en España y Agüero lo hizo en Inglaterra\"...\\nUna frase espectacular de Pe… https://t.co/0X3nS0zAAG',\n",
       " 'RT @ESPNArgentina: #GraciasKun 🤟🏼🇦🇷\\n\\nEl detalle del mensaje de Leo #Messi para su amigo, Sergio #Agüero. \\nhttps://t.co/CuSCdZ5Tsm',\n",
       " 'Había mucha expectativa por las palabras de Messi, tras el anuncio del @aguerosergiokun. Y #Messi dejó hermosas pal… https://t.co/LuGOAf0oyy',\n",
       " 'RT @BumperGraham: One of the most bizarre feelings in my working life to see both #Messi and #Kun helpless, speechless, with tears saying ‘…',\n",
       " 'RT @365Scores: 🚨Special Announcement: Our sharp minds at #365Scores have decided to pitch-in ALL our opinions and pick OUR #PlayerOfTheYear…',\n",
       " 'Asere es muy temprano para estar llorando,hoy no podré entrar a Twitter. \\n#KunAguero \\n#Messi https://t.co/H5O6sjCBUm',\n",
       " '#Messi posteó una carta en apoyo al Kun Agüero: cómo se enteró de su retiro https://t.co/PVPhLL6N7j',\n",
       " 'RT @ActualiteBarca: 💣  Nouvelle vidéo ! \\n\\nLe #Barca en négociations avec CVC, si le deal se fait, le club pourra recruter «\\xa0gros\\xa0» en été.…',\n",
       " 'RT @ESPNArgentina: Futbolistas pero primero, Amigos: campeones del mundo sub-20 🏆, Medalla de oro 🥇 en los Juegos Olímpicos de 2008, campeo…',\n",
       " '🚨Special Announcement: Our sharp minds at #365Scores have decided to pitch-in ALL our opinions and pick OUR… https://t.co/3rUcpCQ8TQ',\n",
       " \"RT @jasonpettigrove: Out TOMORROW 🙌\\n\\n#Messi The King of Camp Nou\\n\\nDirect Link: https://t.co/AIKlLW8jWh\\n\\nA couple of special thank you's too…\",\n",
       " \"RT @jasonpettigrove: Out TOMORROW 🙌\\n\\n#Messi The King of Camp Nou\\n\\nDirect Link: https://t.co/AIKlLW8jWh\\n\\nA couple of special thank you's too…\",\n",
       " 'RT @ActualiteBarca: 💣  Nouvelle vidéo ! \\n\\nLe #Barca en négociations avec CVC, si le deal se fait, le club pourra recruter «\\xa0gros\\xa0» en été.…',\n",
       " 'MÁXIMOS GOLEADORES ARGENTINOS (sumando todos sus clubes en Europa)\\n\\n1 - Lionel #Messi | 678 goles\\n2 - Delio Onis |… https://t.co/6u75TgF0o6',\n",
       " \"Out TOMORROW 🙌\\n\\n#Messi The King of Camp Nou\\n\\nDirect Link: https://t.co/AIKlLW8jWh\\n\\nA couple of special thank you's… https://t.co/Mj7Zg92jne\",\n",
       " \"RT @MehdiiiDz_: #Lacrim quand on lui a demandé s'il préférait Lionel #Messi ou Cristiano Ronaldo #LacrimVsTwitter https://t.co/Zbv2tvmE6A\",\n",
       " \"RT @MehdiiiDz_: #Lacrim quand on lui a demandé s'il préférait Lionel #Messi ou Cristiano Ronaldo #LacrimVsTwitter https://t.co/Zbv2tvmE6A\",\n",
       " \"#Lacrim quand on lui a demandé s'il préférait Lionel #Messi ou Cristiano Ronaldo #LacrimVsTwitter https://t.co/Zbv2tvmE6A\",\n",
       " 'RT @ESPNArgentina: #GraciasKun 🤟🏼🇦🇷 ¡Para seguir emocionándose! #Messi y las palabras que le dedicó a su gran amigo vía #Instagram. ¡Que du…',\n",
       " \"RT @skworldfootball: Leo Messi's message for Kun Aguero! 🤜🤛\\n\\n#Kunaguero #Aguero #Messi #Argentina https://t.co/aPX53Lw86f\",\n",
       " 'RT @ESPNArgentina: #GraciasKun 🤟🏼🇦🇷 ¡Para seguir emocionándose! #Messi y las palabras que le dedicó a su gran amigo vía #Instagram. ¡Que du…',\n",
       " 'DEPORTES | Premios\\nMessi ganó el Olimpia de Oro de 2021 y Schwartzmann el de 2020.\\n\\n#Deportes #Premios #Olimpia… https://t.co/Qy1aQ1atmb',\n",
       " 'RT @Argentina: 🇦🇷 Lionel #Messi, entre los 23 candidatos a los premios #TheBest 🏅 de la @fifacom_es. \\n\\n📝 https://t.co/h8mBtAXZh2 https://t.…',\n",
       " 'RT @ESPNArgentina: #GraciasKun 🤟🏼🇦🇷 ¡Para seguir emocionándose! #Messi y las palabras que le dedicó a su gran amigo vía #Instagram. ¡Que du…',\n",
       " 'RT @messi10_rey: Leo #Messi🗣️: Prácticamente toda una carrera juntos, Kun… Vivimos momentos muy lindos y otros q no lo fueron tanto, todos…',\n",
       " 'RT @ESPNArgentina: #GraciasKun 🤟🏼🇦🇷 ¡Para seguir emocionándose! #Messi y las palabras que le dedicó a su gran amigo vía #Instagram. ¡Que du…',\n",
       " 'Leo #Messi🗣️: Prácticamente toda una carrera juntos, Kun… Vivimos momentos muy lindos y otros q no lo fueron tanto,… https://t.co/sjp5JLdVjf',\n",
       " 'RT @ccerecedo_: 🏟👀#Messi se “despide” del Kun #Agüero \\n\\n🎙“Prácticamente toda una carrera juntos, Kun. Vivimos momentos muy lindos y otros q…',\n",
       " 'Lionel #Messi fue galardonado este martes con el Olimpia de Oro como el mejor deportista argentino de 2021, mientra… https://t.co/ozcjr4jdtz',\n",
       " '\"Seguro que vas a seguir siendo feliz porque sos una persona que transmite felicidad y los que te queremos vamos a… https://t.co/cYQAexAU5e',\n",
       " 'RT @ESPNArgentina: Futbolistas pero primero, Amigos: campeones del mundo sub-20 🏆, Medalla de oro 🥇 en los Juegos Olímpicos de 2008, campeo…',\n",
       " 'RT @ESPNArgentina: #GraciasKun 🤟🏼🇦🇷 ¡Para seguir emocionándose! #Messi y las palabras que le dedicó a su gran amigo vía #Instagram. ¡Que du…',\n",
       " 'DEPORTES | #Messi y el #KunAguero, una amistad como pocas🥲\\nhttps://t.co/X5u49laxML',\n",
       " '#Messi  #KUN https://t.co/G8EVB34SoH',\n",
       " 'RT @ESPNArgentina: #GraciasKun 🤟🏼🇦🇷\\n\\nEl detalle del mensaje de Leo #Messi para su amigo, Sergio #Agüero. \\nhttps://t.co/CuSCdZ5Tsm',\n",
       " 'RT @ESPNArgentina: #GraciasKun 🤟🏼🇦🇷 ¡Para seguir emocionándose! #Messi y las palabras que le dedicó a su gran amigo vía #Instagram. ¡Que du…',\n",
       " 'RT @ActualiteBarca: 💣  Nouvelle vidéo ! \\n\\nLe #Barca en négociations avec CVC, si le deal se fait, le club pourra recruter «\\xa0gros\\xa0» en été.…',\n",
       " 'EL MENSAJE DE SU MEJOR AMIGO\\n\\n#Messi quiso estar presente en la despedida del #KUN!.\\n\\n@Argentina https://t.co/MyuvmBvZcT',\n",
       " 'significado de la vida\\nhttps://t.co/jZ00OiRxAQ\\n\\n#Messi #Mexico #Venezuela #colombia #Ecuador #Peru #Bolivia #Chile… https://t.co/uYtreBleRZ',\n",
       " 'RT @ESPNArgentina: #GraciasKun 🤟🏼🇦🇷\\n\\nEl detalle del mensaje de Leo #Messi para su amigo, Sergio #Agüero. \\nhttps://t.co/CuSCdZ5Tsm',\n",
       " 'RT @ESPNArgentina: #GraciasKun 🤟🏼🇦🇷 ¡Para seguir emocionándose! #Messi y las palabras que le dedicó a su gran amigo vía #Instagram. ¡Que du…',\n",
       " '#GraciasKun 🤟🏼🇦🇷\\n\\nEl detalle del mensaje de Leo #Messi para su amigo, Sergio #Agüero. \\nhttps://t.co/CuSCdZ5Tsm',\n",
       " 'De un amigo a otro. #FuerzaKun  #Messi #Aguero https://t.co/9xbpokv8aW',\n",
       " '365 Days Trading Journal Trading Diary Trading Log 370 Pages, For Traders ... https://t.co/6cDU72xqDp a través de… https://t.co/4kJ4dErjL5',\n",
       " 'RT @ESPNArgentina: Futbolistas pero primero, Amigos: campeones del mundo sub-20 🏆, Medalla de oro 🥇 en los Juegos Olímpicos de 2008, campeo…',\n",
       " '']"
      ]
     },
     "execution_count": 43,
     "metadata": {},
     "output_type": "execute_result"
    }
   ],
   "source": [
    "tweets"
   ]
  },
  {
   "cell_type": "markdown",
   "metadata": {},
   "source": [
    "# 1.2 Preprocess each tweet"
   ]
  },
  {
   "cell_type": "code",
   "execution_count": 44,
   "metadata": {},
   "outputs": [],
   "source": [
    "import re\n",
    "import string\n",
    "\n",
    "from nltk.corpus import stopwords\n",
    "from nltk.stem import PorterStemmer\n",
    "from nltk.tokenize import TweetTokenizer\n",
    "from nltk import download\n",
    "# download('stopwords')\n",
    "\n",
    "def process_tweet(tweet):\n",
    "    '''\n",
    "    Input:\n",
    "        tweet: a string containing a tweet\n",
    "    Output:\n",
    "        tweets_clean: a list of words containing the processed tweet\n",
    "\n",
    "    '''\n",
    "    stemmer = PorterStemmer()\n",
    "    stopwords_english = stopwords.words('english')\n",
    "    # remove stock market tickers like $GE\n",
    "    tweet = re.sub(r'\\$\\w*', '', tweet)\n",
    "    # remove old style retweet text \"RT\"\n",
    "    tweet = re.sub(r'^RT[\\s]+', '', tweet)\n",
    "    # remove hyperlinks\n",
    "    tweet = re.sub(r'https?:\\/\\/.*[\\r\\n]*', '', tweet)\n",
    "    # remove hashtags\n",
    "    # only removing the hash # sign from the word\n",
    "    tweet = re.sub(r'#', '', tweet)\n",
    "    # tokenize tweets\n",
    "    tokenizer = TweetTokenizer(preserve_case=False, strip_handles=True,\n",
    "                               reduce_len=True)\n",
    "    tweet_tokens = tokenizer.tokenize(tweet)\n",
    "\n",
    "    tweets_clean = []\n",
    "    for word in tweet_tokens:\n",
    "        if (word not in stopwords_english and  # remove stopwords\n",
    "            word not in string.punctuation):  # remove punctuation\n",
    "            # tweets_clean.append(word)\n",
    "            stem_word = stemmer.stem(word)  # stemming word\n",
    "            tweets_clean.append(stem_word)\n",
    "\n",
    "    tweets_eng = []\n",
    "    for word in tweets_clean:\n",
    "        flag = True\n",
    "        for i in word:\n",
    "            if ord(i) >= 256:\n",
    "                flag = False\n",
    "                break\n",
    "        if flag:\n",
    "            tweets_eng.append(word)\n",
    "    return tweets_eng"
   ]
  },
  {
   "cell_type": "code",
   "execution_count": 45,
   "metadata": {},
   "outputs": [
    {
     "name": "stdout",
     "output_type": "stream",
     "text": [
      "RT @ActualiteBarca: 💣  Nouvelle vidéo ! \n",
      "\n",
      "Le #Barca en négociations avec CVC, si le deal se fait, le club pourra recruter « gros » en été.…\n",
      "['nouvel', 'vidéo', 'le', 'barca', 'en', 'négociat', 'avec', 'cvc', 'si', 'le', 'deal', 'se', 'fait', 'le', 'club', 'pourra', 'recrut', '«', 'gro', '»', 'en', 'été']\n"
     ]
    }
   ],
   "source": [
    "processed_tweets = [process_tweet(tweet) for tweet in tweets]\n",
    "print(tweets[0])\n",
    "print(processed_tweets[0])"
   ]
  },
  {
   "cell_type": "markdown",
   "metadata": {},
   "source": [
    "# 2. Feature Extraction"
   ]
  },
  {
   "cell_type": "markdown",
   "metadata": {},
   "source": [
    "## 2.1 Word counts  "
   ]
  },
  {
   "cell_type": "code",
   "execution_count": 46,
   "metadata": {},
   "outputs": [],
   "source": [
    "def count_words(tweet:list, freqs:dict, wordToTweet:dict):\n",
    "    for word in tweet:\n",
    "        if word in freqs:\n",
    "            freqs[word] += 1\n",
    "            wordToTweet[word].append(tweet)\n",
    "        else:\n",
    "            freqs[word] = 1\n",
    "            wordToTweet[word] = [tweet]\n",
    "    return freqs"
   ]
  },
  {
   "cell_type": "code",
   "execution_count": 47,
   "metadata": {},
   "outputs": [],
   "source": [
    "freqs = dict()\n",
    "wordToTweet = dict()\n",
    "for tweet in processed_tweets:\n",
    "    count_words(tweet, freqs, wordToTweet)"
   ]
  },
  {
   "cell_type": "code",
   "execution_count": 48,
   "metadata": {},
   "outputs": [
    {
     "data": {
      "text/plain": [
       "86"
      ]
     },
     "execution_count": 48,
     "metadata": {},
     "output_type": "execute_result"
    }
   ],
   "source": [
    "max(freqs.values())"
   ]
  },
  {
   "cell_type": "markdown",
   "metadata": {},
   "source": [
    "# 3. Analysis"
   ]
  },
  {
   "cell_type": "code",
   "execution_count": 49,
   "metadata": {},
   "outputs": [],
   "source": [
    "#!pip3 install numpy pandas seaborn\n",
    "import numpy as np\n",
    "import pandas as pd\n",
    "import seaborn as sb"
   ]
  },
  {
   "cell_type": "code",
   "execution_count": 50,
   "metadata": {},
   "outputs": [],
   "source": [
    "# freqs.keys()\n",
    "# list(freqs.items())"
   ]
  },
  {
   "cell_type": "code",
   "execution_count": 51,
   "metadata": {},
   "outputs": [
    {
     "data": {
      "text/plain": [
       "361"
      ]
     },
     "execution_count": 51,
     "metadata": {},
     "output_type": "execute_result"
    }
   ],
   "source": [
    "len(freqs.keys())"
   ]
  },
  {
   "cell_type": "code",
   "execution_count": 52,
   "metadata": {},
   "outputs": [
    {
     "data": {
      "text/plain": [
       "('messi', 86)"
      ]
     },
     "execution_count": 52,
     "metadata": {},
     "output_type": "execute_result"
    }
   ],
   "source": [
    "most_freq_word = np.argmax(list(freqs.values()))\n",
    "list(freqs.items())[most_freq_word]"
   ]
  },
  {
   "cell_type": "code",
   "execution_count": 53,
   "metadata": {},
   "outputs": [
    {
     "data": {
      "text/plain": [
       "[('messi', 86),\n",
       " ('que', 50),\n",
       " ('¡', 45),\n",
       " ('de', 41),\n",
       " ('amigo', 38),\n",
       " ('le', 37),\n",
       " ('su', 35),\n",
       " ('para', 33),\n",
       " ('la', 32),\n",
       " ('en', 30)]"
      ]
     },
     "execution_count": 53,
     "metadata": {},
     "output_type": "execute_result"
    }
   ],
   "source": [
    "\n",
    "# Sorted in descending order of frequencies\n",
    "freq_sorted = list(freqs.items())\n",
    "freq_sorted.sort(key = lambda x : -x[1])\n",
    "freq_sorted[:10]"
   ]
  },
  {
   "cell_type": "markdown",
   "metadata": {},
   "source": [
    "# Clustering"
   ]
  },
  {
   "cell_type": "code",
   "execution_count": 18,
   "metadata": {},
   "outputs": [],
   "source": [
    "def vectorize(tweet, alphabet):\n",
    "    v = np.zeros(len(alphabet))\n",
    "    for i in range(len(alphabet)):\n",
    "        if alphabet[i] in tweet:\n",
    "            v[i] += 1\n",
    "    return v\n",
    "\n",
    "def normalize(v):\n",
    "    norm = np.power(np.sum(np.power(v,2)), 0.5)\n",
    "    if norm == 0:\n",
    "        return 0\n",
    "    return v / norm"
   ]
  },
  {
   "cell_type": "code",
   "execution_count": 19,
   "metadata": {},
   "outputs": [],
   "source": [
    "from collections import Counter\n",
    "def len_counts(clusters):\n",
    "    lens = [len(cluster) for cluster in clusters.values()]\n",
    "    return dict(Counter(lens))"
   ]
  },
  {
   "cell_type": "code",
   "execution_count": 20,
   "metadata": {},
   "outputs": [],
   "source": [
    "def get_avg_dist(clusterA, clusterB, vectors):\n",
    "    dist_sum = 0\n",
    "    for i in clusterA:\n",
    "        for j in clusterB:\n",
    "            dist_sum += np.sum(np.power(vectors[i] - vectors[j], 2))\n",
    "    \n",
    "    dist_avg = dist_sum / (len(clusterA) * len(clusterB))\n",
    "    return dist_avg"
   ]
  },
  {
   "cell_type": "code",
   "execution_count": 21,
   "metadata": {},
   "outputs": [],
   "source": [
    "def mergeOnce(clusters, vectors):\n",
    "    min_dist = 2**30\n",
    "    min_loc = (0, 0)\n",
    "    for clusterInxA in clusters:\n",
    "        for clusterInxB in clusters:\n",
    "            if clusterInxA != clusterInxB:\n",
    "                dist = get_avg_dist(clusters[clusterInxA], clusters[clusterInxB], vectors)\n",
    "                if dist < min_dist:\n",
    "                    min_loc = (clusterInxA, clusterInxB)\n",
    "                    min_dist = dist\n",
    "\n",
    "    clusters[min_loc[0]] = clusters[min_loc[0]] + clusters[min_loc[1]]\n",
    "    clusters.pop(min_loc[1])\n",
    "\n",
    "def mergeToK(clusters, vectors, K):\n",
    "    while len(clusters.keys()) > K:\n",
    "        mergeOnce(clusters, vectors)"
   ]
  },
  {
   "cell_type": "code",
   "execution_count": 22,
   "metadata": {},
   "outputs": [],
   "source": [
    "def display_unique_tweets(tweets, cluster):\n",
    "    c_tweets = [tweets[i] for i in cluster]\n",
    "    for i in range(len(c_tweets)):\n",
    "        if not c_tweets[i] in c_tweets[:i]:\n",
    "            print(c_tweets[i])\n",
    "        "
   ]
  },
  {
   "cell_type": "code",
   "execution_count": 23,
   "metadata": {},
   "outputs": [],
   "source": [
    "alphabet = [i[0] for i in freq_sorted]\n",
    "n = len(processed_tweets)\n",
    "m = len(alphabet)\n",
    "clusters = dict()\n",
    "vectors = dict()\n",
    "for i in range(n):\n",
    "    vectors[i] = vectorize(processed_tweets[i], alphabet)\n",
    "    clusters[i] = [i]\n",
    "mergeToK(clusters, vectors, 15)\n"
   ]
  },
  {
   "cell_type": "code",
   "execution_count": 24,
   "metadata": {},
   "outputs": [
    {
     "name": "stdout",
     "output_type": "stream",
     "text": [
      "{0: [0, 51, 81, 93, 55, 11, 25, 3, 13, 35, 39, 52, 59, 63, 64, 69, 71, 72, 73, 74, 75, 76, 77, 9, 21, 54, 12, 18, 28, 33, 40, 47, 50, 53, 57, 66, 67, 68, 84, 85, 91, 94, 95, 97, 99, 100, 38, 80, 20, 45, 78, 88, 79, 65, 48, 62, 49, 6, 42, 36, 26, 1, 5, 10, 8, 14, 82, 37, 24, 83, 15, 17, 23, 29, 30, 89, 27, 44, 43, 58, 46, 34, 61, 92], 2: [2], 4: [4], 7: [7, 31, 41, 60], 16: [16], 19: [19], 22: [22], 32: [32], 56: [56], 70: [70], 86: [86], 87: [87], 90: [90], 96: [96], 98: [98]}\n"
     ]
    }
   ],
   "source": [
    "# print(\"lengths:\")\n",
    "# print({cluster:len(clusters[cluster]) for cluster in clusters})\n",
    "# print(\"len counts:\")\n",
    "# print(len_counts(clusters))\n",
    "print(clusters)"
   ]
  },
  {
   "cell_type": "code",
   "execution_count": 25,
   "metadata": {},
   "outputs": [
    {
     "name": "stdout",
     "output_type": "stream",
     "text": [
      "['pm', 'modi', 'lost', 'farmlaw', 'battl', 'jan', '28th', 'night', 'polic', 'reach', 'rakesh', 'tikait', 'ghazipur', 'border']\n"
     ]
    }
   ],
   "source": [
    "display_unique_tweets(processed_tweets, clusters[2])"
   ]
  },
  {
   "cell_type": "markdown",
   "metadata": {},
   "source": [
    "# Divisive Clustering"
   ]
  },
  {
   "cell_type": "code",
   "execution_count": 54,
   "metadata": {},
   "outputs": [],
   "source": [
    "def vectorize(tweet, alphabet):\n",
    "    v = np.zeros(len(alphabet))\n",
    "    for i in range(len(alphabet)):\n",
    "        if alphabet[i] in tweet:\n",
    "            v[i] += 1\n",
    "    return v\n",
    "\n",
    "def normalize(v):\n",
    "    norm = np.power(np.sum(np.power(v,2)), 0.5)\n",
    "    if norm == 0:\n",
    "        return 0\n",
    "    return v / norm"
   ]
  },
  {
   "cell_type": "code",
   "execution_count": 55,
   "metadata": {},
   "outputs": [],
   "source": [
    "def findMostDistant(cluster, vectors):\n",
    "    if len(cluster)<=1:\n",
    "        return -1\n",
    "    maxDist = -1\n",
    "    item = 0\n",
    "    n = len(cluster)\n",
    "    for i in cluster:\n",
    "        dist = 0\n",
    "        for j in cluster:\n",
    "            dist += np.linalg.norm(vectors[i] - vectors[j])\n",
    "        dist /= n\n",
    "        if dist>maxDist:\n",
    "            maxDist = dist\n",
    "            item = i\n",
    "    return item"
   ]
  },
  {
   "cell_type": "code",
   "execution_count": 56,
   "metadata": {},
   "outputs": [],
   "source": [
    "def isCloserToFirstCluster(cluster1, cluster2, item, vectors):\n",
    "    dist1 = 0\n",
    "    dist2 = 0\n",
    "    n1 = len(cluster1)\n",
    "    n2 = len(cluster2)\n",
    "    for i in cluster1:\n",
    "        dist1 += np.linalg.norm(vectors[i] - vectors[item])\n",
    "    dist1 /= n1\n",
    "    for i in cluster2:\n",
    "        dist2 += np.linalg.norm(vectors[i] - vectors[item])\n",
    "    dist2 /= n2\n",
    "    if dist1<=dist2:\n",
    "        return True\n",
    "    return False"
   ]
  },
  {
   "cell_type": "code",
   "execution_count": 57,
   "metadata": {},
   "outputs": [],
   "source": [
    "def dClusteringOnce(clusters, vectors):\n",
    "    tmp = []\n",
    "    for key in clusters:\n",
    "        tmp.append(key)\n",
    "    for key in tmp:\n",
    "        item = findMostDistant(clusters[key], vectors)\n",
    "        if item == -1:\n",
    "            continue\n",
    "        if item==key:\n",
    "            item = clusters[key][1]\n",
    "            clusters[item] = clusters[key][1:]\n",
    "            for i in clusters[key][1:]:\n",
    "                if isCloserToFirstCluster(clusters[item], clusters[key], i, vectors):\n",
    "                    clusters[item].append(i)\n",
    "                    clusters[key].remove(i)\n",
    "            continue\n",
    "        clusters[item] = [item]\n",
    "        clusters[key].remove(item)\n",
    "        for i in clusters[key]:\n",
    "            if isCloserToFirstCluster(clusters[item], clusters[key], i, vectors):\n",
    "                clusters[item].append(i)\n",
    "                clusters[key].remove(i)"
   ]
  },
  {
   "cell_type": "code",
   "execution_count": 58,
   "metadata": {},
   "outputs": [],
   "source": [
    "def dClusteringMinK(clusters, vectors, k):\n",
    "    while len(clusters)<k:\n",
    "        dClusteringOnce(clusters, vectors)"
   ]
  },
  {
   "cell_type": "code",
   "execution_count": 59,
   "metadata": {},
   "outputs": [
    {
     "name": "stdout",
     "output_type": "stream",
     "text": [
      "[['nouvel', 'vidéo', 'le', 'barca', 'en', 'négociat', 'avec', 'cvc', 'si', 'le', 'deal', 'se', 'fait', 'le', 'club', 'pourra', 'recrut', '«', 'gro', '»', 'en', 'été'], ['special', 'announc', 'sharp', 'mind', '365score', 'decid', 'pitch-in', 'opinion', 'pick', 'playeroftheyear'], ['aguero', 'si', 'ritira', 'arriva', 'il', 'commovent', 'messaggio', 'di', 'messi', 'il', 'sett', 'volt', 'pallon', \"d'oro\", 'ha', 'voluto', 'omaggiar', 'il', 'su'], ['leo', 'messi', 'prácticament', 'toda', 'una', 'carrera', 'junto', 'kun', 'vivimo', 'momento', 'muy', 'lindo', 'otro', 'q', 'lo', 'fueron', 'tanto', 'todo'], ['messi', 'despidió', 'su', 'mejor', 'amigo', 'dentro', 'de', 'la', 'cancha', 'voy', 'extrañar', 'muchísimo', 'estar', 'con', 'vo'], ['el', 'mural', 'má', 'grand', 'del', 'mundo', 'para', 'el', 'mejor', 'jugador', 'del', 'mundo', 'messi', 'rosario', 'messiahhascom', 'messi', '7'], ['maradona', 'conquistó', 'italia', 'messi', 'lo', 'hizo', 'en', 'españa', 'agüero', 'lo', 'hizo', 'en', 'inglaterra', '...', 'una', 'frase', 'espectacular', 'de', 'pep', 'guar'], ['la', 'sensibl', 'reacción', 'de', 'messi', 'al', 'retiro', 'del', 'kunagüero', 'te', 'quiero', 'mucho'], ['sergio', 'agüero', 'anunció', 'su', 'retiro', 'del', 'fútbol', 'profesion', 'su', 'compañero', 'gran', 'amigo', 'lionel', 'messi', 'tardó', 'en', 'dedic'], ['graciaskun', '¡', 'para', 'seguir', 'emocionándos', 'messi', 'la', 'palabra', 'que', 'le', 'dedicó', 'su', 'gran', 'amigo', 'vía', 'instagram', '¡', 'que', 'du'], ['maradona', 'conquistó', 'italia', 'messi', 'lo', 'hizo', 'en', 'españa', 'agüero', 'lo', 'hizo', 'en', 'inglaterra', '...', 'una', 'frase', 'espectacular', 'de', 'pep', 'guar'], ['luego', 'está', 'leo', 'messi', '2012', '69', 'partido', '91', 'gole', 'record', 'mundial', 'sigan', 'participando'], ['fifa', 'got', 'right', 'also', 'forget', 'visit', 'websit', 'play', 'footbal', 'local', 'area'], ['lionel', 'messi', 'alway', 'great', 'deal', 'respect', 'wayn', 'rooney', 'greatest', 'engli'], ['maradona', 'conquistó', 'italia', 'messi', 'lo', 'hizo', 'en', 'españa', 'agüero', 'lo', 'hizo', 'en', 'inglaterra', '...', 'una', 'frase', 'espectacular', 'de', 'pep', 'guar'], ['graciaskun', '¡', 'para', 'seguir', 'emocionándos', 'messi', 'la', 'palabra', 'que', 'le', 'dedicó', 'su', 'gran', 'amigo', 'vía', 'instagram', '¡', 'que', 'du'], ['futbolista', 'pero', 'primero', 'amigo', 'campeon', 'del', 'mundo', 'sub', '20', 'medalla', 'de', 'oro', 'en', 'lo', 'juego', 'olímpico', 'de', '2008', 'campeo'], ['graciaskun', '¡', 'para', 'seguir', 'emocionándos', 'messi', 'la', 'palabra', 'que', 'le', 'dedicó', 'su', 'gran', 'amigo', 'vía', 'instagram', '¡', 'que', 'du'], ['graciaskun', '¡', 'para', 'seguir', 'emocionándos', 'messi', 'la', 'palabra', 'que', 'le', 'dedicó', 'su', 'gran', 'amigo', 'vía', 'instagram', '¡', 'que', 'du'], ['do', 'grand', 'amigo', 'messi', 'despedida', 'kunaguero', 'messi'], ['graciaskun', '¡', 'para', 'seguir', 'emocionándos', 'messi', 'la', 'palabra', 'que', 'le', 'dedicó', 'su', 'gran', 'amigo', 'vía', 'instagram', '¡', 'que', 'du'], ['graciaskun', '¡', 'para', 'seguir', 'emocionándos', 'messi', 'la', 'palabra', 'que', 'le', 'dedicó', 'su', 'gran', 'amigo', 'vía', 'instagram', '¡', 'que', 'du'], ['graciaskun', '¡', 'para', 'seguir', 'emocionándos', 'messi', 'la', 'palabra', 'que', 'le', 'dedicó', 'su', 'gran', 'amigo', 'vía', 'instagram', '¡', 'que', 'du'], ['sergio', 'kun', 'aguerro', 'pensiun', 'dini', 'umur', '33', 'th', 'karena', 'masalah', 'gangguan', 'jantung', 'happi', 'retir', 'kun', \"thank'\"], ['graciaskun', '¡', 'para', 'seguir', 'emocionándos', 'messi', 'la', 'palabra', 'que', 'le', 'dedicó', 'su', 'gran', 'amigo', 'vía', 'instagram', '¡', 'que', 'du'], ['graciaskun', '¡', 'para', 'seguir', 'emocionándos', 'messi', 'la', 'palabra', 'que', 'le', 'dedicó', 'su', 'gran', 'amigo', 'vía', 'instagram', '¡', 'que', 'du'], ['elanmusk', 'cristianoronaldo', 'messi'], ['graciaskun', '¡', 'para', 'seguir', 'emocionándos', 'messi', 'la', 'palabra', 'que', 'le', 'dedicó', 'su', 'gran', 'amigo', 'vía', 'instagram', '¡', 'que', 'du'], ['lionel', 'messi', 'pay', 'emot', 'tribut', 'sergio', 'aguero', 'argentin', 'striker', 'retir', 'footbal', 'check', 'post'], ['graciaskun', '¡', 'para', 'seguir', 'emocionándos', 'messi', 'la', 'palabra', 'que', 'le', 'dedicó', 'su', 'gran', 'amigo', 'vía', 'instagram', '¡', 'que', 'du'], ['happy_retirement_kun_aguero', 'thank', 'everyth', 'messi', 'agouero', 'argentina', 'neymar', 'sergioaguero'], ['futbolista', 'pero', 'primero', 'amigo', 'campeon', 'del', 'mundo', 'sub', '20', 'medalla', 'de', 'oro', 'en', 'lo', 'juego', 'olímpico', 'de', '2008', 'campeo'], ['bandit', 'kill', 'kaduna', 'lawmak', 'zaria', 'attack'], ['pregunta', 'seria', 'por', 'qué', 'tien', 'que', 'hacer', 'má', 'que', 'messi', 'para', 'que', 'se', 'le', 'reconozca', 'el', 'trabajo'], ['maradona', 'conquistó', 'italia', 'messi', 'lo', 'hizo', 'en', 'españa', 'agüero', 'lo', 'hizo', 'en', 'inglaterra', '...', 'una', 'frase', 'espectacular', 'de', 'pep', 'guar'], ['futbolista', 'pero', 'primero', 'amigo', 'campeon', 'del', 'mundo', 'sub', '20', 'medalla', 'de', 'oro', 'en', 'lo', 'juego', 'olímpico', 'de', '2008', 'campeo'], ['bandit', 'kill', 'kaduna', 'lawmak', 'zaria', 'attack'], ['...', '427', '21'], ['el', 'emotivo', 'mensaj', 'de', 'messi', 'para', 'el', 'kunagüero'], ['¡', 'la', 'emotiva', 'carta', 'de', 'leo', 'messi', 'lionel', 'messi', 'usó', 'su', 'instagram', 'para', 'publicar', 'una', 'emotiva', 'carta', 'para', 'el', 'kun'], ['messi', 'le', 'compartió', 'un', 'mensaj', 'al', 'kunagüero', 'en', 'su', 'rede', 'social'], ['messi', '7th', 'ballon', '. \\n.\\n.\\n.', 'messi', 'messiballondor'], ['amigo', 'de', 'toda', 'la', 'vida', 'foto', 'intermin', 'despedida', 'de', 'lionel', 'messi', 'para', 'kun', 'agüero', 'kunagüero', 'messi'], ['...', '427', '21'], ['le', 'batard', 'uefa', 'foot', 'psg', 'realmadrid', 'mbapp', 'messi', 'ldc', 'halamadrid', 'ligu', '1ubereat'], ['graciaskun', '¡', 'para', 'seguir', 'emocionándos', 'messi', 'la', 'palabra', 'que', 'le', 'dedicó', 'su', 'gran', 'amigo', 'vía', 'instagram', '¡', 'que', 'du'], ['leo', 'messi', 'prácticament', 'toda', 'una', 'carrera', 'junto', 'kun', 'vivimo', 'momento', 'muy', 'lindo', 'otro', 'q', 'lo', 'fueron', 'tanto', 'todo'], ['lionel', 'messi', 'obtuvo', 'el', 'premio', 'olimpia', 'de', 'oro', '2021', 'la', 'lista', 'completa', 'de', 'ganador', 'argentina', 'premioolimpia'], ['tomorrow', 'messi', 'king', 'camp', 'nou', 'direct', 'link', 'coupl', 'special', 'thank', \"you'\"], ['leo', 'messi', 'prácticament', 'toda', 'una', 'carrera', 'junto', 'kun', 'vivimo', 'momento', 'muy', 'lindo', 'otro', 'q', 'lo', 'fueron', 'tanto', 'todo'], ['leo', 'messi', 'prácticament', 'toda', 'una', 'carrera', 'junto', 'kun', 'vivimo', 'momento', 'muy', 'lindo', 'otro', 'q', 'lo', 'fueron', 'tanto', 'todo'], ['graciaskun', '¡', 'para', 'seguir', 'emocionándos', 'messi', 'la', 'palabra', 'que', 'le', 'dedicó', 'su', 'gran', 'amigo', 'vía', 'instagram', '¡', 'que', 'du'], ['graciaskun', '¡', 'para', 'seguir', 'emocionándos', 'messi', 'la', 'palabra', 'que', 'le', 'dedicó', 'su', 'gran', 'amigo', 'vía', 'instagram', '¡', 'que', 'du'], ['había', 'mucha', 'expectativa', 'por', 'la', 'palabra', 'de', 'messi', 'tra', 'el', 'anuncio', 'del', 'messi', 'dejó', 'hermosa', 'palabra', 'en'], ['graciaskun', '¡', 'para', 'seguir', 'emocionándos', 'messi', 'la', 'palabra', 'que', 'le', 'dedicó', 'su', 'gran', 'amigo', 'vía', 'instagram', '¡', 'que', 'du'], ['maradona', 'conquistó', 'italia', 'messi', 'lo', 'hizo', 'en', 'españa', 'agüero', 'lo', 'hizo', 'en', 'inglaterra', '...', 'una', 'frase', 'espectacular', 'de', 'pe'], ['graciaskun', 'el', 'detal', 'del', 'mensaj', 'de', 'leo', 'messi', 'para', 'su', 'amigo', 'sergio', 'agüero'], ['había', 'mucha', 'expectativa', 'por', 'la', 'palabra', 'de', 'messi', 'tra', 'el', 'anuncio', 'del', 'messi', 'dejó', 'hermosa', 'pal'], ['one', 'bizarr', 'feel', 'work', 'life', 'see', 'messi', 'kun', 'helpless', 'speechless', 'tear', 'say'], ['special', 'announc', 'sharp', 'mind', '365score', 'decid', 'pitch-in', 'opinion', 'pick', 'playeroftheyear'], ['aser', 'es', 'muy', 'temprano', 'para', 'estar', 'llorando', 'hoy', 'podré', 'entrar', 'twitter', 'kunaguero', 'messi'], ['messi', 'posteó', 'una', 'carta', 'en', 'apoyo', 'al', 'kun', 'agüero', 'cómo', 'se', 'enteró', 'de', 'su', 'retiro'], ['nouvel', 'vidéo', 'le', 'barca', 'en', 'négociat', 'avec', 'cvc', 'si', 'le', 'deal', 'se', 'fait', 'le', 'club', 'pourra', 'recrut', '«', 'gro', '»', 'en', 'été'], ['futbolista', 'pero', 'primero', 'amigo', 'campeon', 'del', 'mundo', 'sub', '20', 'medalla', 'de', 'oro', 'en', 'lo', 'juego', 'olímpico', 'de', '2008', 'campeo'], ['special', 'announc', 'sharp', 'mind', '365score', 'decid', 'pitch-in', 'opinion', 'pick'], ['tomorrow', 'messi', 'king', 'camp', 'nou', 'direct', 'link', 'coupl', 'special', 'thank', \"you'\"], ['tomorrow', 'messi', 'king', 'camp', 'nou', 'direct', 'link', 'coupl', 'special', 'thank', \"you'\"], ['nouvel', 'vidéo', 'le', 'barca', 'en', 'négociat', 'avec', 'cvc', 'si', 'le', 'deal', 'se', 'fait', 'le', 'club', 'pourra', 'recrut', '«', 'gro', '»', 'en', 'été'], ['máximo', 'goleador', 'argentino', 'sumando', 'todo', 'su', 'clube', 'en', 'europa', '1', 'lionel', 'messi', '678', 'gole', '2', 'delio', 'oni'], ['tomorrow', 'messi', 'king', 'camp', 'nou', 'direct', 'link', 'coupl', 'special', 'thank', \"you'\"], ['lacrim', 'quand', 'lui', 'demandé', \"s'il\", 'préférait', 'lionel', 'messi', 'ou', 'cristiano', 'ronaldo', 'lacrimvstwitt'], ['lacrim', 'quand', 'lui', 'demandé', \"s'il\", 'préférait', 'lionel', 'messi', 'ou', 'cristiano', 'ronaldo', 'lacrimvstwitt'], ['lacrim', 'quand', 'lui', 'demandé', \"s'il\", 'préférait', 'lionel', 'messi', 'ou', 'cristiano', 'ronaldo', 'lacrimvstwitt'], ['graciaskun', '¡', 'para', 'seguir', 'emocionándos', 'messi', 'la', 'palabra', 'que', 'le', 'dedicó', 'su', 'gran', 'amigo', 'vía', 'instagram', '¡', 'que', 'du'], ['leo', \"messi'\", 'messag', 'kun', 'aguero', 'kunaguero', 'aguero', 'messi', 'argentina'], ['graciaskun', '¡', 'para', 'seguir', 'emocionándos', 'messi', 'la', 'palabra', 'que', 'le', 'dedicó', 'su', 'gran', 'amigo', 'vía', 'instagram', '¡', 'que', 'du'], ['deport', 'premio', 'messi', 'ganó', 'el', 'olimpia', 'de', 'oro', 'de', '2021', 'schwartzmann', 'el', 'de', '2020', 'deport', 'premio', 'olimpia'], ['lionel', 'messi', 'entr', 'lo', '23', 'candidato', 'lo', 'premio', 'thebest', 'de', 'la'], ['graciaskun', '¡', 'para', 'seguir', 'emocionándos', 'messi', 'la', 'palabra', 'que', 'le', 'dedicó', 'su', 'gran', 'amigo', 'vía', 'instagram', '¡', 'que', 'du'], ['leo', 'messi', 'prácticament', 'toda', 'una', 'carrera', 'junto', 'kun', 'vivimo', 'momento', 'muy', 'lindo', 'otro', 'q', 'lo', 'fueron', 'tanto', 'todo'], ['graciaskun', '¡', 'para', 'seguir', 'emocionándos', 'messi', 'la', 'palabra', 'que', 'le', 'dedicó', 'su', 'gran', 'amigo', 'vía', 'instagram', '¡', 'que', 'du'], ['leo', 'messi', 'prácticament', 'toda', 'una', 'carrera', 'junto', 'kun', 'vivimo', 'momento', 'muy', 'lindo', 'otro', 'q', 'lo', 'fueron', 'tanto'], ['messi', 'se', 'despid', 'del', 'kun', 'agüero', 'prácticament', 'toda', 'una', 'carrera', 'junto', 'kun', 'vivimo', 'momento', 'muy', 'lindo', 'otro', 'q'], ['lionel', 'messi', 'fue', 'galardonado', 'est', 'mart', 'con', 'el', 'olimpia', 'de', 'oro', 'como', 'el', 'mejor', 'deportista', 'argentino', 'de', '2021', 'mientra'], ['seguro', 'que', 'va', 'seguir', 'siendo', 'feliz', 'porqu', 'so', 'una', 'persona', 'que', 'transmit', 'felicidad', 'lo', 'que', 'te', 'queremo', 'vamo'], ['futbolista', 'pero', 'primero', 'amigo', 'campeon', 'del', 'mundo', 'sub', '20', 'medalla', 'de', 'oro', 'en', 'lo', 'juego', 'olímpico', 'de', '2008', 'campeo'], ['graciaskun', '¡', 'para', 'seguir', 'emocionándos', 'messi', 'la', 'palabra', 'que', 'le', 'dedicó', 'su', 'gran', 'amigo', 'vía', 'instagram', '¡', 'que', 'du'], ['deport', 'messi', 'el', 'kunaguero', 'una', 'amistad', 'como', 'poca'], ['messi', 'kun'], ['graciaskun', 'el', 'detal', 'del', 'mensaj', 'de', 'leo', 'messi', 'para', 'su', 'amigo', 'sergio', 'agüero'], ['graciaskun', '¡', 'para', 'seguir', 'emocionándos', 'messi', 'la', 'palabra', 'que', 'le', 'dedicó', 'su', 'gran', 'amigo', 'vía', 'instagram', '¡', 'que', 'du'], ['nouvel', 'vidéo', 'le', 'barca', 'en', 'négociat', 'avec', 'cvc', 'si', 'le', 'deal', 'se', 'fait', 'le', 'club', 'pourra', 'recrut', '«', 'gro', '»', 'en', 'été'], ['el', 'mensaj', 'de', 'su', 'mejor', 'amigo', 'messi', 'quiso', 'estar', 'present', 'en', 'la', 'despedida', 'del', 'kun'], ['significado', 'de', 'la', 'vida', 'messi', 'mexico', 'venezuela', 'colombia', 'ecuador', 'peru', 'bolivia', 'chile'], ['graciaskun', 'el', 'detal', 'del', 'mensaj', 'de', 'leo', 'messi', 'para', 'su', 'amigo', 'sergio', 'agüero'], ['graciaskun', '¡', 'para', 'seguir', 'emocionándos', 'messi', 'la', 'palabra', 'que', 'le', 'dedicó', 'su', 'gran', 'amigo', 'vía', 'instagram', '¡', 'que', 'du'], ['graciaskun', 'el', 'detal', 'del', 'mensaj', 'de', 'leo', 'messi', 'para', 'su', 'amigo', 'sergio', 'agüero'], ['de', 'un', 'amigo', 'otro', 'fuerzakun', 'messi', 'aguero'], ['365', 'day', 'trade', 'journal', 'trade', 'diari', 'trade', 'log', '370', 'page', 'trader', '...'], ['futbolista', 'pero', 'primero', 'amigo', 'campeon', 'del', 'mundo', 'sub', '20', 'medalla', 'de', 'oro', 'en', 'lo', 'juego', 'olímpico', 'de', '2008', 'campeo']]\n"
     ]
    }
   ],
   "source": [
    "while [] in processed_tweets:\n",
    "    processed_tweets.remove([])\n",
    "print(processed_tweets)"
   ]
  },
  {
   "cell_type": "code",
   "execution_count": 60,
   "metadata": {},
   "outputs": [],
   "source": [
    "alphabet = [i[0] for i in freq_sorted]\n",
    "clusters = dict()\n",
    "vectors = dict()\n",
    "for i in range(len(processed_tweets)):\n",
    "    vectors[i] = vectorize(processed_tweets[i], alphabet)\n",
    "clusters[0] = [i for i in range(len(processed_tweets))]"
   ]
  },
  {
   "cell_type": "code",
   "execution_count": 61,
   "metadata": {},
   "outputs": [
    {
     "name": "stdout",
     "output_type": "stream",
     "text": [
      "{0: [0, 6, 9, 10, 14, 15, 16, 17, 18, 20, 21, 22, 24, 25, 27, 29, 31, 34, 35, 45, 51, 52, 54, 62, 63, 67, 73, 75, 78, 80, 85, 86, 90, 91, 95, 99], 1: [1, 3, 4, 5, 6, 7, 8, 9, 10, 11, 12, 13, 14, 15, 16, 17, 18, 19, 20, 21, 22, 23, 24, 25, 26, 27, 28, 29, 30, 31, 32, 33, 34, 35, 36, 37, 38, 39, 40, 41, 42, 43, 44, 45, 46, 47, 48, 49, 50, 51, 52, 53, 54, 55, 56, 57, 58, 59, 60, 61, 63, 64, 65, 66, 68, 69, 70, 71, 72, 73, 74, 75, 76, 77, 78, 79, 80, 81, 82, 83, 84, 85, 86, 87, 88, 89, 90, 92, 93, 94, 95, 96, 97, 98, 99, 1, 11, 12, 13, 19, 23, 26, 28, 30, 32, 33, 36, 37, 38, 39, 40, 41, 42, 43, 44, 46, 47, 48, 49, 50, 53, 55, 57, 58, 59, 60, 61, 64, 65, 66, 68, 69, 70, 71, 72, 74, 76, 77, 79, 81, 82, 83, 84, 87, 88, 93, 97, 98], 3: [3], 62: [62], 4: [4, 5, 6, 7, 8, 9, 10, 14, 15, 16, 17, 18, 20, 21, 22, 24, 25, 27, 29, 31, 34, 35, 45, 51, 52, 54, 56, 62, 63, 67, 73, 75, 78, 80, 85, 86, 89, 90, 91, 92, 94, 95, 96, 99, 4, 5, 7, 8, 56, 89, 92, 94, 96], 2: [2, 2], 67: [67, 91, 67, 91]}\n",
      "7\n"
     ]
    }
   ],
   "source": [
    "dClusteringMinK(clusters, vectors, 7)\n",
    "print(clusters)\n",
    "print(len(clusters))"
   ]
  },
  {
   "cell_type": "code",
   "execution_count": 62,
   "metadata": {},
   "outputs": [
    {
     "data": {
      "text/plain": [
       "361"
      ]
     },
     "execution_count": 62,
     "metadata": {},
     "output_type": "execute_result"
    }
   ],
   "source": [
    "len(alphabet)"
   ]
  },
  {
   "cell_type": "code",
   "execution_count": 1,
   "metadata": {},
   "outputs": [
    {
     "ename": "NameError",
     "evalue": "name 'processed_tweets' is not defined",
     "output_type": "error",
     "traceback": [
      "\u001b[0;31m---------------------------------------------------------------------------\u001b[0m",
      "\u001b[0;31mNameError\u001b[0m                                 Traceback (most recent call last)",
      "\u001b[0;32m/tmp/ipykernel_5286/1598508009.py\u001b[0m in \u001b[0;36m<module>\u001b[0;34m\u001b[0m\n\u001b[0;32m----> 1\u001b[0;31m \u001b[0mlen\u001b[0m\u001b[0;34m(\u001b[0m\u001b[0mprocessed_tweets\u001b[0m\u001b[0;34m)\u001b[0m\u001b[0;34m\u001b[0m\u001b[0;34m\u001b[0m\u001b[0m\n\u001b[0m",
      "\u001b[0;31mNameError\u001b[0m: name 'processed_tweets' is not defined"
     ]
    }
   ],
   "source": [
    "len(processed_tweets)"
   ]
  },
  {
   "cell_type": "code",
   "execution_count": 64,
   "metadata": {},
   "outputs": [
    {
     "name": "stdout",
     "output_type": "stream",
     "text": [
      "36\n",
      "148\n",
      "1\n",
      "1\n",
      "53\n",
      "2\n",
      "4\n"
     ]
    }
   ],
   "source": [
    "for a in clusters.values():\n",
    "    print(len(a))"
   ]
  },
  {
   "cell_type": "code",
   "execution_count": null,
   "metadata": {},
   "outputs": [],
   "source": []
  }
 ],
 "metadata": {
  "interpreter": {
   "hash": "916dbcbb3f70747c44a77c7bcd40155683ae19c65e1c03b4aa3499c5328201f1"
  },
  "kernelspec": {
   "display_name": "Python 3 (ipykernel)",
   "language": "python",
   "name": "python3"
  },
  "language_info": {
   "codemirror_mode": {
    "name": "ipython",
    "version": 3
   },
   "file_extension": ".py",
   "mimetype": "text/x-python",
   "name": "python",
   "nbconvert_exporter": "python",
   "pygments_lexer": "ipython3",
   "version": "3.9.2"
  }
 },
 "nbformat": 4,
 "nbformat_minor": 2
}
