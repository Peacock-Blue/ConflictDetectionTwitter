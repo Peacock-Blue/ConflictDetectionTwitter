{
 "cells": [
  {
   "cell_type": "code",
   "execution_count": 1,
   "metadata": {},
   "outputs": [],
   "source": [
    "from kmeans import *\n",
    "from divisive_clustering import *\n",
    "from custom_clustering import *\n",
    "from agglo import *"
   ]
  },
  {
   "cell_type": "code",
   "execution_count": 2,
   "metadata": {},
   "outputs": [],
   "source": [
    "f = open('farmer.txt', 'r')\n",
    "tweets = f.read().split('_$_')\n",
    "f.close()"
   ]
  },
  {
   "cell_type": "code",
   "execution_count": 3,
   "metadata": {},
   "outputs": [],
   "source": [
    "#(clusters,vectors) = kmeans_cl(tweets, 5, 100)\n",
    "#clusters"
   ]
  },
  {
   "cell_type": "code",
   "execution_count": 4,
   "metadata": {},
   "outputs": [],
   "source": [
    "#(clusters,vectors) = divisive_clustering(tweets,7)\n",
    "#clusters\n"
   ]
  },
  {
   "cell_type": "code",
   "execution_count": 5,
   "metadata": {},
   "outputs": [
    {
     "data": {
      "text/plain": [
       "{0: [0,\n",
       "  1,\n",
       "  2,\n",
       "  3,\n",
       "  5,\n",
       "  6,\n",
       "  7,\n",
       "  8,\n",
       "  10,\n",
       "  11,\n",
       "  15,\n",
       "  16,\n",
       "  19,\n",
       "  22,\n",
       "  23,\n",
       "  24,\n",
       "  26,\n",
       "  27,\n",
       "  28,\n",
       "  29,\n",
       "  30,\n",
       "  31,\n",
       "  32,\n",
       "  33,\n",
       "  35,\n",
       "  36,\n",
       "  38,\n",
       "  40,\n",
       "  41,\n",
       "  42,\n",
       "  43,\n",
       "  44,\n",
       "  45,\n",
       "  46,\n",
       "  49,\n",
       "  50,\n",
       "  51,\n",
       "  52,\n",
       "  54,\n",
       "  57,\n",
       "  59,\n",
       "  60,\n",
       "  62,\n",
       "  63,\n",
       "  67,\n",
       "  68,\n",
       "  69,\n",
       "  70,\n",
       "  71,\n",
       "  72,\n",
       "  73,\n",
       "  74,\n",
       "  75,\n",
       "  76,\n",
       "  77,\n",
       "  78,\n",
       "  79,\n",
       "  80,\n",
       "  81,\n",
       "  82,\n",
       "  83,\n",
       "  84,\n",
       "  85,\n",
       "  86],\n",
       " 4: [4],\n",
       " 9: [9],\n",
       " 12: [12, 55],\n",
       " 13: [13, 34, 66, 17, 58, 64, 37],\n",
       " 14: [14],\n",
       " 18: [18],\n",
       " 20: [20, 47],\n",
       " 21: [21],\n",
       " 25: [25, 39],\n",
       " 48: [48],\n",
       " 53: [53],\n",
       " 56: [56],\n",
       " 61: [61],\n",
       " 65: [65]}"
      ]
     },
     "execution_count": 5,
     "metadata": {},
     "output_type": "execute_result"
    }
   ],
   "source": [
    "(clusters,vectors) = custom_clustering(tweets,15)\n",
    "clusters"
   ]
  },
  {
   "cell_type": "code",
   "execution_count": 6,
   "metadata": {},
   "outputs": [],
   "source": [
    "#(clusters,vectors) = agglo(tweets,3)\n",
    "#clusters"
   ]
  },
  {
   "cell_type": "code",
   "execution_count": 7,
   "metadata": {},
   "outputs": [],
   "source": [
    "def furthestCentroids(centroids):\n",
    "    x = -1\n",
    "    y=-1\n",
    "    maxDist = -1\n",
    "    for i in range(len(centroids)):\n",
    "        for j in range(i+1,len(centroids)):\n",
    "            dist = np.linalg.norm(centroids[i]-centroids[j])\n",
    "            if dist>maxDist:\n",
    "                maxDist = dist\n",
    "                x = i\n",
    "                y = j\n",
    "    return (x,y)\n",
    "                \n",
    "\n",
    "\n",
    "def getTwoFurthestClusters(clusters,vectors):\n",
    "    x = clusters.keys()\n",
    "    centroids = []\n",
    "    centroidmap = []\n",
    "    for i in x:\n",
    "        sum_vector = np.zeros(len(vectors[0]))\n",
    "        s = 0\n",
    "        for j in clusters[i]:\n",
    "            sum_vector = np.add(sum_vector,vectors[j])\n",
    "        for j in range(len(vectors[0])):\n",
    "            sum_vector[j] = sum_vector[j]/len(vectors[0])\n",
    "        centroids.append(sum_vector)\n",
    "        centroidmap.append(i)\n",
    "    (p,q) = furthestCentroids(centroids)\n",
    "    furthestClusters = []\n",
    "    furthestClusters.append(clusters[centroidmap[p]])\n",
    "    furthestClusters.append(clusters[centroidmap[q]])\n",
    "    return furthestClusters\n",
    "\n",
    "def remove_empty_from_dict(d):\n",
    "    if type(d) is dict:\n",
    "        return dict((k, remove_empty_from_dict(v)) for k, v in d.items() if v and remove_empty_from_dict(v))\n",
    "    elif type(d) is list:\n",
    "        return [remove_empty_from_dict(v) for v in d if v and remove_empty_from_dict(v)]\n",
    "    else:\n",
    "        return d\n",
    "    "
   ]
  },
  {
   "cell_type": "code",
   "execution_count": 8,
   "metadata": {},
   "outputs": [
    {
     "data": {
      "text/plain": [
       "[[1,\n",
       "  2,\n",
       "  3,\n",
       "  5,\n",
       "  6,\n",
       "  7,\n",
       "  8,\n",
       "  10,\n",
       "  11,\n",
       "  15,\n",
       "  16,\n",
       "  19,\n",
       "  22,\n",
       "  23,\n",
       "  24,\n",
       "  26,\n",
       "  27,\n",
       "  28,\n",
       "  29,\n",
       "  30,\n",
       "  31,\n",
       "  32,\n",
       "  33,\n",
       "  35,\n",
       "  36,\n",
       "  38,\n",
       "  40,\n",
       "  41,\n",
       "  42,\n",
       "  43,\n",
       "  44,\n",
       "  45,\n",
       "  46,\n",
       "  49,\n",
       "  50,\n",
       "  51,\n",
       "  52,\n",
       "  54,\n",
       "  57,\n",
       "  59,\n",
       "  60,\n",
       "  62,\n",
       "  63,\n",
       "  67,\n",
       "  68,\n",
       "  69,\n",
       "  70,\n",
       "  71,\n",
       "  72,\n",
       "  73,\n",
       "  74,\n",
       "  75,\n",
       "  76,\n",
       "  77,\n",
       "  78,\n",
       "  79,\n",
       "  80,\n",
       "  81,\n",
       "  82,\n",
       "  83,\n",
       "  84,\n",
       "  85,\n",
       "  86],\n",
       " [12, 55]]"
      ]
     },
     "execution_count": 8,
     "metadata": {},
     "output_type": "execute_result"
    }
   ],
   "source": [
    "clusters = remove_empty_from_dict(clusters)\n",
    "\n",
    "ans = getTwoFurthestClusters(clusters,vectors)\n",
    "ans"
   ]
  },
  {
   "cell_type": "code",
   "execution_count": null,
   "metadata": {},
   "outputs": [],
   "source": []
  }
 ],
 "metadata": {
  "interpreter": {
   "hash": "916dbcbb3f70747c44a77c7bcd40155683ae19c65e1c03b4aa3499c5328201f1"
  },
  "kernelspec": {
   "display_name": "Python 3",
   "language": "python",
   "name": "python3"
  },
  "language_info": {
   "codemirror_mode": {
    "name": "ipython",
    "version": 3
   },
   "file_extension": ".py",
   "mimetype": "text/x-python",
   "name": "python",
   "nbconvert_exporter": "python",
   "pygments_lexer": "ipython3",
   "version": "3.8.10"
  }
 },
 "nbformat": 4,
 "nbformat_minor": 2
}
