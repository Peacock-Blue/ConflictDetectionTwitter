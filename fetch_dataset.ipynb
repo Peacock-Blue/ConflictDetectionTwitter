{
 "cells": [
  {
   "cell_type": "code",
   "execution_count": 1,
   "metadata": {},
   "outputs": [],
   "source": [
    "%load_ext dotenv\n",
    "%dotenv ./auth.txt\n",
    "\n",
    "from utils import *\n",
    "tc = TwitterClient()"
   ]
  },
  {
   "cell_type": "markdown",
   "metadata": {},
   "source": [
    "messi_tweets = tc.fetch_tweets(\"#chess\", 2000)\n",
    "with open('chess.txt', 'w') as wf:\n",
    "    for tweet in messi_tweets:\n",
    "        wf.write('{}_$_'.format(tweet.text))"
   ]
  },
  {
   "cell_type": "code",
   "execution_count": 9,
   "metadata": {},
   "outputs": [],
   "source": [
    "catalogue = []\n",
    "with open('dataset.txt', 'r') as rf:\n",
    "    country_wise = eval(rf.read())\n",
    "    for country in country_wise:\n",
    "        for tag in country_wise[country]:\n",
    "            all_english = True\n",
    "            for c in tag:\n",
    "                if ord(c) >= 256:\n",
    "                    all_english = False\n",
    "                    break\n",
    "            if not all_english:\n",
    "                continue\n",
    "            if not tag in catalogue:\n",
    "                catalogue.append(tag)\n",
    "with open('catalogue.txt', 'w') as cat:\n",
    "    for tag in catalogue:\n",
    "        cat.write('{} '.format(tag))\n"
   ]
  },
  {
   "cell_type": "code",
   "execution_count": 4,
   "metadata": {},
   "outputs": [],
   "source": [
    "catalogue = []\n",
    "with open('dataset.txt', 'r') as rf:\n",
    "    tags = rf.read().split(' ')        \n",
    "    for tag in tags:\n",
    "        all_english = True\n",
    "        for c in tag:\n",
    "            if ord(c) >= 256:\n",
    "                all_english = False\n",
    "                break\n",
    "        if not all_english:\n",
    "            continue\n",
    "        if not tag in catalogue:\n",
    "            catalogue.append(tag)\n",
    "with open('catalogue.txt', 'w') as cat:\n",
    "    for tag in catalogue:\n",
    "        cat.write('{} '.format(tag))\n"
   ]
  },
  {
   "cell_type": "code",
   "execution_count": 10,
   "metadata": {},
   "outputs": [],
   "source": [
    "with open('catalogue.txt', 'r') as rf:\n",
    "    tags = rf.read().split(' ')\n",
    "    for i in range(50):\n",
    "        with open('./datasets/d{}.txt'.format(i), 'w') as wf:\n",
    "            tweets = tc.fetch_tweets(tags[i], 2000)\n",
    "            for tweet in tweets:\n",
    "                wf.write('{}_$_'.format(tweet.text))\n"
   ]
  },
  {
   "cell_type": "code",
   "execution_count": 7,
   "metadata": {},
   "outputs": [
    {
     "data": {
      "text/plain": [
       "{1: 2, 3: 4}"
      ]
     },
     "execution_count": 7,
     "metadata": {},
     "output_type": "execute_result"
    }
   ],
   "source": []
  }
 ],
 "metadata": {
  "interpreter": {
   "hash": "916dbcbb3f70747c44a77c7bcd40155683ae19c65e1c03b4aa3499c5328201f1"
  },
  "kernelspec": {
   "display_name": "Python 3.9.7 64-bit",
   "name": "python3"
  },
  "language_info": {
   "codemirror_mode": {
    "name": "ipython",
    "version": 3
   },
   "file_extension": ".py",
   "mimetype": "text/x-python",
   "name": "python",
   "nbconvert_exporter": "python",
   "pygments_lexer": "ipython3",
   "version": "3.9.7"
  },
  "orig_nbformat": 4
 },
 "nbformat": 4,
 "nbformat_minor": 2
}
