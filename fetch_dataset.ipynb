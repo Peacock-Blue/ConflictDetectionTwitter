{
 "cells": [
  {
   "cell_type": "code",
   "execution_count": 3,
   "metadata": {},
   "outputs": [
    {
     "name": "stdout",
     "output_type": "stream",
     "text": [
      "The dotenv extension is already loaded. To reload it, use:\n",
      "  %reload_ext dotenv\n"
     ]
    }
   ],
   "source": [
    "%load_ext dotenv\n",
    "%dotenv ./auth.txt\n",
    "\n",
    "from utils import *\n",
    "tc = TwitterClient()"
   ]
  },
  {
   "cell_type": "code",
   "execution_count": 4,
   "metadata": {},
   "outputs": [],
   "source": [
    "with open('dataset.txt', 'r') as rf:\n",
    "    tags = rf.read().split(' ')\n",
    "    with open('catalogue.txt', 'w') as cat:\n",
    "        for tag in tags:\n",
    "            cat.write('{} '.format(tag))\n",
    "    for i in range(50):\n",
    "        all_english = True\n",
    "        for c in tags[i]:\n",
    "            if ord(c) >= 256:\n",
    "                all_english = False\n",
    "                break\n",
    "        if not all_english:\n",
    "            continue\n",
    "\n",
    "        with open('./datasets/d{}.txt'.format(i), 'w') as wf:\n",
    "            tweets = tc.fetch_tweets(tags[i], 2000)\n",
    "            for tweet in tweets:\n",
    "                wf.write('{}_$_'.format(tweet.text))\n"
   ]
  },
  {
   "cell_type": "code",
   "execution_count": null,
   "metadata": {},
   "outputs": [],
   "source": []
  }
 ],
 "metadata": {
  "interpreter": {
   "hash": "916dbcbb3f70747c44a77c7bcd40155683ae19c65e1c03b4aa3499c5328201f1"
  },
  "kernelspec": {
   "display_name": "Python 3.9.7 64-bit",
   "name": "python3"
  },
  "language_info": {
   "codemirror_mode": {
    "name": "ipython",
    "version": 3
   },
   "file_extension": ".py",
   "mimetype": "text/x-python",
   "name": "python",
   "nbconvert_exporter": "python",
   "pygments_lexer": "ipython3",
   "version": "3.9.7"
  },
  "orig_nbformat": 4
 },
 "nbformat": 4,
 "nbformat_minor": 2
}
