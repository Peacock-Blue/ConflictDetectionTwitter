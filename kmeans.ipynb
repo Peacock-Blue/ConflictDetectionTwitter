{
 "cells": [
  {
   "cell_type": "code",
   "execution_count": 1,
   "id": "handy-associate",
   "metadata": {},
   "outputs": [],
   "source": [
    "from TwitterClient import TwitterClient\n",
    "from PreProcessor import *\n",
    "from clustering import KMeans\n",
    "import matplotlib.pyplot as plt"
   ]
  },
  {
   "cell_type": "markdown",
   "id": "9abd025f",
   "metadata": {},
   "source": [
    "# Create Dataset"
   ]
  },
  {
   "cell_type": "code",
   "execution_count": 2,
   "id": "26ac4995",
   "metadata": {},
   "outputs": [],
   "source": [
    "api = TwitterClient()\n",
    "api.createDataset('messi.txt', '#Messi', 20000)"
   ]
  },
  {
   "cell_type": "markdown",
   "id": "87e51c00",
   "metadata": {},
   "source": [
    "# Read Data"
   ]
  },
  {
   "cell_type": "code",
   "execution_count": 3,
   "id": "e7f59b59",
   "metadata": {},
   "outputs": [],
   "source": [
    "f = open('./Datasets/messi.txt', 'r')\n",
    "tweets = f.read().split('_$_')\n",
    "f.close()"
   ]
  },
  {
   "cell_type": "code",
   "execution_count": 4,
   "id": "2f88dcf8",
   "metadata": {},
   "outputs": [
    {
     "data": {
      "text/plain": [
       "['RT @BlazquezFont: Robert Lewandowski ha logrado marcar 69 goles en un mismo año natural. Tanto él como Cristiano Ronaldo siguen muy lejos d…',\n",
       " 'RT @n_rsports: การทำประตูมากที่สุดในหนึ่งปีปฏิทิน😲 \\n\\n#messi #ronaldo #lewandowski https://t.co/KolPM4VxyS',\n",
       " 'การทำประตูมากที่สุดในหนึ่งปีปฏิทิน😲 \\n\\n#messi #ronaldo #lewandowski https://t.co/KolPM4VxyS',\n",
       " 'RT @CanalSupporters: Le but de Lionel Messi🇦🇷 face à Manchester City est élu plus beau but de la phase de groupes d’#UCL\\xa0 ! \\n\\n#PSG #Messi h…',\n",
       " 'RT @sportsposting: Casemiro × Messi × Ramos 🔥\\nWeird scene at UCL this season 🤣🤣\\n\\n#MESSI #PSG #MessiPSG https://t.co/TNHx3ZgSKo',\n",
       " 'RT @Mich_est_la: @MiniLicorne69 @sylvita30 Il envoie son idiot utile pour se présenter lui en #messi dans quelques temps !!! tu sais juste…',\n",
       " \"RT @Mich_est_la: @sylvita30 @MiniLicorne69 Il y a plusieurs mois que j'écris qu'il envoie ses pimprenelles et les autres pour faire le sale…\",\n",
       " 'RT @RayHudson: we saw it so often didn`t we?...the #GOAT #Messi could bend smoke through a keyhole',\n",
       " 'RT @jaber_asadi: https://t.co/eFtpXfcxZf\\nmessi 13/20  one of Football stars collection\\n3 tez\\n@kalamint_io\\n #messi #Argentina #footbal #Socc…',\n",
       " 'You need him - Rangnick told player to sign for Manchester Utd - EPL - https://t.co/yu56ExpCNB #Sport #EPL… https://t.co/OgM0EPFcW8',\n",
       " '@shemsifcb #messi is everywhere',\n",
       " 'RT @SpclMarine: What a bend and curve free kick by Leo #Messi from long range. I feel Bend it like Messi should already have been a new slo…',\n",
       " '']"
      ]
     },
     "execution_count": 4,
     "metadata": {},
     "output_type": "execute_result"
    }
   ],
   "source": [
    "tweets"
   ]
  },
  {
   "cell_type": "markdown",
   "id": "cae7da8d",
   "metadata": {},
   "source": [
    "# Preprocess"
   ]
  },
  {
   "cell_type": "code",
   "execution_count": 5,
   "id": "8bc47f0c",
   "metadata": {},
   "outputs": [],
   "source": [
    "processed_tweets = PreProcessor(tweets).preProcess()"
   ]
  },
  {
   "cell_type": "code",
   "execution_count": 6,
   "id": "637797be",
   "metadata": {},
   "outputs": [
    {
     "data": {
      "text/plain": [
       "12"
      ]
     },
     "execution_count": 6,
     "metadata": {},
     "output_type": "execute_result"
    }
   ],
   "source": [
    "len(processed_tweets)"
   ]
  },
  {
   "cell_type": "code",
   "execution_count": 7,
   "id": "65f75071",
   "metadata": {},
   "outputs": [],
   "source": [
    "c = CreateFreqs(processed_tweets)"
   ]
  },
  {
   "cell_type": "code",
   "execution_count": 8,
   "id": "739141a9",
   "metadata": {},
   "outputs": [],
   "source": [
    "freqs = c.createFreqs()"
   ]
  },
  {
   "cell_type": "code",
   "execution_count": 9,
   "id": "a29dea07",
   "metadata": {},
   "outputs": [],
   "source": [
    "freq_sorted = c.createFreqSorted()"
   ]
  },
  {
   "cell_type": "code",
   "execution_count": 10,
   "id": "46544c35",
   "metadata": {},
   "outputs": [],
   "source": [
    "vectors = Vectorizer(processed_tweets, freq_sorted).textVectorize()"
   ]
  },
  {
   "cell_type": "code",
   "execution_count": 11,
   "id": "b768faa7",
   "metadata": {},
   "outputs": [],
   "source": [
    "alphabet = [i[0] for i in freq_sorted]"
   ]
  },
  {
   "cell_type": "markdown",
   "id": "4d33e098",
   "metadata": {},
   "source": [
    "# Clustering"
   ]
  },
  {
   "cell_type": "code",
   "execution_count": 12,
   "id": "dc117ddf",
   "metadata": {},
   "outputs": [],
   "source": [
    "kmeans = KMeans(4, 100, vectors, alphabet)"
   ]
  },
  {
   "cell_type": "code",
   "execution_count": 13,
   "id": "cb69b504",
   "metadata": {},
   "outputs": [],
   "source": [
    "clusters = kmeans.run()"
   ]
  },
  {
   "cell_type": "code",
   "execution_count": 14,
   "id": "4ed52ceb",
   "metadata": {},
   "outputs": [
    {
     "data": {
      "text/plain": [
       "{0: [0, 1, 2, 4, 5, 6, 7, 9, 10], 1: [11], 2: [3], 3: [8]}"
      ]
     },
     "execution_count": 14,
     "metadata": {},
     "output_type": "execute_result"
    }
   ],
   "source": [
    "clusters"
   ]
  },
  {
   "cell_type": "code",
   "execution_count": 15,
   "id": "66e8d166",
   "metadata": {},
   "outputs": [
    {
     "name": "stdout",
     "output_type": "stream",
     "text": [
      "No of tweets: 12\n"
     ]
    }
   ],
   "source": [
    "print(\"No of tweets: \" + str(len(processed_tweets)))"
   ]
  },
  {
   "cell_type": "code",
   "execution_count": 16,
   "id": "75e11692",
   "metadata": {},
   "outputs": [
    {
     "name": "stdout",
     "output_type": "stream",
     "text": [
      "No of features: 106\n"
     ]
    }
   ],
   "source": [
    "print(\"No of features: \" + str(len(alphabet)))"
   ]
  },
  {
   "cell_type": "code",
   "execution_count": 17,
   "id": "225d0565",
   "metadata": {},
   "outputs": [],
   "source": [
    "plotData = dict()\n",
    "for key in clusters.keys():\n",
    "    plotData[key] = len(clusters[key])"
   ]
  },
  {
   "cell_type": "code",
   "execution_count": 18,
   "id": "de7d6839",
   "metadata": {},
   "outputs": [
    {
     "data": {
      "image/png": "[encoded data removed]",
      "text/plain": [
       "<Figure size 432x288 with 1 Axes>"
      ]
     },
     "metadata": {
      "needs_background": "light"
     },
     "output_type": "display_data"
    }
   ],
   "source": [
    "plt.bar(*zip(*plotData.items()))\n",
    "plt.show()"
   ]
  },
  {
   "cell_type": "code",
   "execution_count": null,
   "id": "0925dfd4",
   "metadata": {},
   "outputs": [],
   "source": []
  }
 ],
 "metadata": {
  "kernelspec": {
   "display_name": "Python 3 (ipykernel)",
   "language": "python",
   "name": "python3"
  },
  "language_info": {
   "codemirror_mode": {
    "name": "ipython",
    "version": 3
   },
   "file_extension": ".py",
   "mimetype": "text/x-python",
   "name": "python",
   "nbconvert_exporter": "python",
   "pygments_lexer": "ipython3",
   "version": "3.9.2"
  }
 },
 "nbformat": 4,
 "nbformat_minor": 5
}
